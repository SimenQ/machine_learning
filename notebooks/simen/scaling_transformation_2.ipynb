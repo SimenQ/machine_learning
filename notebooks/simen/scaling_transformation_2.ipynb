{
 "cells": [
  {
   "cell_type": "code",
   "execution_count": 3,
   "metadata": {},
   "outputs": [],
   "source": [
    "import pandas as pd \n",
    "import numpy as np\n",
    "import matplotlib.pyplot as plt \n",
    "import seaborn as sns\n",
    "import sklearn\n",
    "from sklearn.impute import SimpleImputer\n",
    "from sklearn.preprocessing import StandardScaler\n",
    "from sklearn.preprocessing import PowerTransformer\n",
    "import scipy.stats as stat\n",
    "import pylab "
   ]
  },
  {
   "cell_type": "code",
   "execution_count": 4,
   "metadata": {},
   "outputs": [],
   "source": [
    "#import datasets \n",
    "train_dist = pd.read_csv(\"/Users/simenvoldqvam/Desktop/Skole/machine_learning/data/train_data/train_set_with_only_distance_feat.csv\").drop([\"Unnamed: 0\"], axis = 1)\n",
    "test_dist = pd.read_csv(\"/Users/simenvoldqvam/Desktop/Skole/machine_learning/data/train_data/test_set_with_only_distance_feat.csv\").drop([\"Unnamed: 0\"], axis = 1)\n",
    "test_df = pd.read_csv(\"/Users/simenvoldqvam/Desktop/Skole/machine_learning/data/train_data/dataset_test_without_rev_features.csv\").drop([\"Unnamed: 0\"], axis = 1)\n",
    "rev = pd.read_csv(\"/Users/simenvoldqvam/Desktop/Skole/machine_learning/data/train_data/revenue_labels.csv\").drop([\"Unnamed: 0\"], axis = 1)\n",
    "stores_train_impuded = pd.read_csv(\"/Users/simenvoldqvam/Desktop/Skole/machine_learning/data/train_data/stores_gk_impuded.csv\")\n",
    "stores_test_impuded = pd.read_csv(\"/Users/simenvoldqvam/Desktop/Skole/machine_learning/data/train_data/stores_test_impuded.csv\")\n",
    "\n",
    "busstops = pd.read_csv('/Users/simenvoldqvam/Desktop/Skole/machine_learning/data/raw/busstops_norway.csv')\n",
    "grunnkrets_age = pd.read_csv('/Users/simenvoldqvam/Desktop/Skole/machine_learning/data/raw/grunnkrets_age_distribution.csv')\n",
    "grunnkrets_household = pd.read_csv('/Users/simenvoldqvam/Desktop/Skole/machine_learning/data/raw/grunnkrets_households_num_persons.csv')\n",
    "grunnkrets_income = pd.read_csv('/Users/simenvoldqvam/Desktop/Skole/machine_learning/data/raw/grunnkrets_income_households.csv')\n",
    "grunnkrets_norway = pd.read_csv('/Users/simenvoldqvam/Desktop/Skole/machine_learning/data/raw/grunnkrets_norway_stripped.csv')\n",
    "plaace_hierarchy = pd.read_csv('/Users/simenvoldqvam/Desktop/Skole/machine_learning/data/raw/plaace_hierarchy.csv')\n",
    "sample_submission = pd.read_csv('/Users/simenvoldqvam/Desktop/Skole/machine_learning/data/raw/sample_submission.csv')\n",
    "stores_extra = pd.read_csv('/Users/simenvoldqvam/Desktop/Skole/machine_learning/data/raw/stores_extra.csv')\n",
    "stores_test = pd.read_csv('/Users/simenvoldqvam/Desktop/Skole/machine_learning/data/raw/stores_test.csv')\n",
    "stores_train = pd.read_csv('/Users/simenvoldqvam/Desktop/Skole/machine_learning/data/raw/stores_train.csv')\n"
   ]
  },
  {
   "cell_type": "code",
   "execution_count": 5,
   "metadata": {},
   "outputs": [],
   "source": [
    "df = grunnkrets_income[grunnkrets_income[\"year\"] == 2016].drop([\"year\"], axis = 1)\n",
    "income_df= stores_train_impuded.merge(df, how = \"left\", on = \"grunnkrets_id\")\n",
    "\n",
    "income_df_test = stores_test_impuded.merge(df, how = \"left\", on =\"grunnkrets_id\")\n",
    "\n"
   ]
  },
  {
   "cell_type": "code",
   "execution_count": 6,
   "metadata": {},
   "outputs": [
    {
     "data": {
      "text/html": [
       "<div>\n",
       "<style scoped>\n",
       "    .dataframe tbody tr th:only-of-type {\n",
       "        vertical-align: middle;\n",
       "    }\n",
       "\n",
       "    .dataframe tbody tr th {\n",
       "        vertical-align: top;\n",
       "    }\n",
       "\n",
       "    .dataframe thead th {\n",
       "        text-align: right;\n",
       "    }\n",
       "</style>\n",
       "<table border=\"1\" class=\"dataframe\">\n",
       "  <thead>\n",
       "    <tr style=\"text-align: right;\">\n",
       "      <th></th>\n",
       "      <th>store_id</th>\n",
       "      <th>year</th>\n",
       "      <th>store_name</th>\n",
       "      <th>plaace_hierarchy_id</th>\n",
       "      <th>sales_channel_name</th>\n",
       "      <th>grunnkrets_id</th>\n",
       "      <th>address</th>\n",
       "      <th>lat</th>\n",
       "      <th>lon</th>\n",
       "      <th>chain_name</th>\n",
       "      <th>...</th>\n",
       "      <th>grunnkrets_name</th>\n",
       "      <th>district_name</th>\n",
       "      <th>municipality_name</th>\n",
       "      <th>area_km2</th>\n",
       "      <th>all_households</th>\n",
       "      <th>singles</th>\n",
       "      <th>couple_without_children</th>\n",
       "      <th>couple_with_children</th>\n",
       "      <th>other_households</th>\n",
       "      <th>single_parent_with_children</th>\n",
       "    </tr>\n",
       "  </thead>\n",
       "  <tbody>\n",
       "    <tr>\n",
       "      <th>0</th>\n",
       "      <td>914206820-914239427-717245</td>\n",
       "      <td>2016</td>\n",
       "      <td>VÅLERENGA HALAL BURGER AS</td>\n",
       "      <td>1.1.1.0</td>\n",
       "      <td>Hamburger restaurants</td>\n",
       "      <td>3012704</td>\n",
       "      <td>STRØMSVEIEN 25 A</td>\n",
       "      <td>59.908672</td>\n",
       "      <td>10.787031</td>\n",
       "      <td>NaN</td>\n",
       "      <td>...</td>\n",
       "      <td>Vålerenga rode 4</td>\n",
       "      <td>Vålerenga</td>\n",
       "      <td>Oslo</td>\n",
       "      <td>0.057027</td>\n",
       "      <td>386900.0</td>\n",
       "      <td>294200.0</td>\n",
       "      <td>659000.0</td>\n",
       "      <td>799000.0</td>\n",
       "      <td>624300.0</td>\n",
       "      <td>381500.0</td>\n",
       "    </tr>\n",
       "    <tr>\n",
       "      <th>1</th>\n",
       "      <td>916789157-916823770-824309</td>\n",
       "      <td>2016</td>\n",
       "      <td>BURGER KING MYREN</td>\n",
       "      <td>1.1.1.0</td>\n",
       "      <td>Hamburger restaurants</td>\n",
       "      <td>8061401</td>\n",
       "      <td>MYREN 1</td>\n",
       "      <td>59.201467</td>\n",
       "      <td>9.588243</td>\n",
       "      <td>BURGER KING</td>\n",
       "      <td>...</td>\n",
       "      <td>Kjempa</td>\n",
       "      <td>Gulset</td>\n",
       "      <td>Skien</td>\n",
       "      <td>0.165993</td>\n",
       "      <td>475200.0</td>\n",
       "      <td>272100.0</td>\n",
       "      <td>595400.0</td>\n",
       "      <td>707400.0</td>\n",
       "      <td>713400.0</td>\n",
       "      <td>367900.0</td>\n",
       "    </tr>\n",
       "    <tr>\n",
       "      <th>2</th>\n",
       "      <td>913341082-977479363-2948</td>\n",
       "      <td>2016</td>\n",
       "      <td>BURGER KING STOVNER</td>\n",
       "      <td>1.1.1.0</td>\n",
       "      <td>Hamburger restaurants</td>\n",
       "      <td>3013917</td>\n",
       "      <td>STOVNER SENTER 3</td>\n",
       "      <td>59.962146</td>\n",
       "      <td>10.924524</td>\n",
       "      <td>BURGER KING</td>\n",
       "      <td>...</td>\n",
       "      <td>Stovner senter</td>\n",
       "      <td>Fossum</td>\n",
       "      <td>Oslo</td>\n",
       "      <td>0.236628</td>\n",
       "      <td>451900.0</td>\n",
       "      <td>269100.0</td>\n",
       "      <td>578600.0</td>\n",
       "      <td>662000.0</td>\n",
       "      <td>734000.0</td>\n",
       "      <td>372800.0</td>\n",
       "    </tr>\n",
       "    <tr>\n",
       "      <th>3</th>\n",
       "      <td>889682582-889697172-28720</td>\n",
       "      <td>2016</td>\n",
       "      <td>BURGER KING TUNGASLETTA</td>\n",
       "      <td>1.1.1.0</td>\n",
       "      <td>Hamburger restaurants</td>\n",
       "      <td>16012104</td>\n",
       "      <td>TUNGASLETTA 16</td>\n",
       "      <td>63.420785</td>\n",
       "      <td>10.461091</td>\n",
       "      <td>BURGER KING</td>\n",
       "      <td>...</td>\n",
       "      <td>Strindheim 4</td>\n",
       "      <td>Strindheim</td>\n",
       "      <td>Trondheim</td>\n",
       "      <td>0.983436</td>\n",
       "      <td>497400.0</td>\n",
       "      <td>293000.0</td>\n",
       "      <td>614100.0</td>\n",
       "      <td>858400.0</td>\n",
       "      <td>778000.0</td>\n",
       "      <td>413400.0</td>\n",
       "    </tr>\n",
       "    <tr>\n",
       "      <th>4</th>\n",
       "      <td>997991699-998006945-417222</td>\n",
       "      <td>2016</td>\n",
       "      <td>VULKAN BURGERBAR</td>\n",
       "      <td>1.1.1.0</td>\n",
       "      <td>Hamburger restaurants</td>\n",
       "      <td>3014305</td>\n",
       "      <td>AUD SCHØNEMANNS VEI 15</td>\n",
       "      <td>59.921102</td>\n",
       "      <td>10.785123</td>\n",
       "      <td>VULKAN BURGERBAR</td>\n",
       "      <td>...</td>\n",
       "      <td>Lille Tøyen</td>\n",
       "      <td>Hasle</td>\n",
       "      <td>Oslo</td>\n",
       "      <td>0.449502</td>\n",
       "      <td>489800.0</td>\n",
       "      <td>329900.0</td>\n",
       "      <td>705100.0</td>\n",
       "      <td>819500.0</td>\n",
       "      <td>714700.0</td>\n",
       "      <td>400900.0</td>\n",
       "    </tr>\n",
       "    <tr>\n",
       "      <th>...</th>\n",
       "      <td>...</td>\n",
       "      <td>...</td>\n",
       "      <td>...</td>\n",
       "      <td>...</td>\n",
       "      <td>...</td>\n",
       "      <td>...</td>\n",
       "      <td>...</td>\n",
       "      <td>...</td>\n",
       "      <td>...</td>\n",
       "      <td>...</td>\n",
       "      <td>...</td>\n",
       "      <td>...</td>\n",
       "      <td>...</td>\n",
       "      <td>...</td>\n",
       "      <td>...</td>\n",
       "      <td>...</td>\n",
       "      <td>...</td>\n",
       "      <td>...</td>\n",
       "      <td>...</td>\n",
       "      <td>...</td>\n",
       "      <td>...</td>\n",
       "    </tr>\n",
       "    <tr>\n",
       "      <th>8572</th>\n",
       "      <td>983164994-983173446-1571</td>\n",
       "      <td>2016</td>\n",
       "      <td>ARNULF LARSSEN AS</td>\n",
       "      <td>2.8.2.0</td>\n",
       "      <td>Kiosks</td>\n",
       "      <td>20040508</td>\n",
       "      <td>SEILANDSVEIEN</td>\n",
       "      <td>70.540508</td>\n",
       "      <td>23.489153</td>\n",
       "      <td>NaN</td>\n",
       "      <td>...</td>\n",
       "      <td>Rypefjord 1</td>\n",
       "      <td>Sørøysund</td>\n",
       "      <td>Hammerfest</td>\n",
       "      <td>0.233519</td>\n",
       "      <td>NaN</td>\n",
       "      <td>NaN</td>\n",
       "      <td>NaN</td>\n",
       "      <td>NaN</td>\n",
       "      <td>NaN</td>\n",
       "      <td>NaN</td>\n",
       "    </tr>\n",
       "    <tr>\n",
       "      <th>8573</th>\n",
       "      <td>917194602-917240809-839622</td>\n",
       "      <td>2016</td>\n",
       "      <td>LOSTI AS</td>\n",
       "      <td>3.2.4.0</td>\n",
       "      <td>Spas</td>\n",
       "      <td>10180212</td>\n",
       "      <td>NaN</td>\n",
       "      <td>58.051363</td>\n",
       "      <td>7.648440</td>\n",
       "      <td>NaN</td>\n",
       "      <td>...</td>\n",
       "      <td>Skjernøy</td>\n",
       "      <td>Tregde-Skjernøy</td>\n",
       "      <td>Mandal</td>\n",
       "      <td>0.172808</td>\n",
       "      <td>NaN</td>\n",
       "      <td>NaN</td>\n",
       "      <td>NaN</td>\n",
       "      <td>NaN</td>\n",
       "      <td>NaN</td>\n",
       "      <td>NaN</td>\n",
       "    </tr>\n",
       "    <tr>\n",
       "      <th>8574</th>\n",
       "      <td>916236255-916275269-800265</td>\n",
       "      <td>2016</td>\n",
       "      <td>RATT TRANSPORT AS</td>\n",
       "      <td>3.2.4.0</td>\n",
       "      <td>Spas</td>\n",
       "      <td>6280302</td>\n",
       "      <td>VERPENVEIEN 8 B</td>\n",
       "      <td>59.666010</td>\n",
       "      <td>10.569668</td>\n",
       "      <td>NaN</td>\n",
       "      <td>...</td>\n",
       "      <td>Storsand</td>\n",
       "      <td>Nordøstre Hurum</td>\n",
       "      <td>Hurum</td>\n",
       "      <td>2.427799</td>\n",
       "      <td>NaN</td>\n",
       "      <td>NaN</td>\n",
       "      <td>NaN</td>\n",
       "      <td>NaN</td>\n",
       "      <td>NaN</td>\n",
       "      <td>NaN</td>\n",
       "    </tr>\n",
       "    <tr>\n",
       "      <th>8575</th>\n",
       "      <td>998529794-975934594-45230</td>\n",
       "      <td>2016</td>\n",
       "      <td>VIKØY SERVICES AS</td>\n",
       "      <td>3.4.2.0</td>\n",
       "      <td>Laundromats and dry cleaners</td>\n",
       "      <td>12190512</td>\n",
       "      <td>KVERNANESVEGEN 238</td>\n",
       "      <td>59.891397</td>\n",
       "      <td>5.114380</td>\n",
       "      <td>NaN</td>\n",
       "      <td>...</td>\n",
       "      <td>Stolmen/Hevrøy</td>\n",
       "      <td>Ytre Austevoll</td>\n",
       "      <td>Austevoll</td>\n",
       "      <td>0.733720</td>\n",
       "      <td>NaN</td>\n",
       "      <td>NaN</td>\n",
       "      <td>NaN</td>\n",
       "      <td>NaN</td>\n",
       "      <td>NaN</td>\n",
       "      <td>NaN</td>\n",
       "    </tr>\n",
       "    <tr>\n",
       "      <th>8576</th>\n",
       "      <td>994330489-918246169-882781</td>\n",
       "      <td>2016</td>\n",
       "      <td>HØVÅG TRIMMEN AS</td>\n",
       "      <td>3.6.1.0</td>\n",
       "      <td>Gyms</td>\n",
       "      <td>9260108</td>\n",
       "      <td>ØSTRE VALLESVERD</td>\n",
       "      <td>58.217703</td>\n",
       "      <td>8.271836</td>\n",
       "      <td>NaN</td>\n",
       "      <td>...</td>\n",
       "      <td>Nedre Høvåg</td>\n",
       "      <td>Høvåg</td>\n",
       "      <td>Lillesand</td>\n",
       "      <td>0.209442</td>\n",
       "      <td>NaN</td>\n",
       "      <td>NaN</td>\n",
       "      <td>NaN</td>\n",
       "      <td>NaN</td>\n",
       "      <td>NaN</td>\n",
       "      <td>NaN</td>\n",
       "    </tr>\n",
       "  </tbody>\n",
       "</table>\n",
       "<p>8577 rows × 21 columns</p>\n",
       "</div>"
      ],
      "text/plain": [
       "                        store_id  year                 store_name  \\\n",
       "0     914206820-914239427-717245  2016  VÅLERENGA HALAL BURGER AS   \n",
       "1     916789157-916823770-824309  2016          BURGER KING MYREN   \n",
       "2       913341082-977479363-2948  2016        BURGER KING STOVNER   \n",
       "3      889682582-889697172-28720  2016    BURGER KING TUNGASLETTA   \n",
       "4     997991699-998006945-417222  2016           VULKAN BURGERBAR   \n",
       "...                          ...   ...                        ...   \n",
       "8572    983164994-983173446-1571  2016          ARNULF LARSSEN AS   \n",
       "8573  917194602-917240809-839622  2016                   LOSTI AS   \n",
       "8574  916236255-916275269-800265  2016          RATT TRANSPORT AS   \n",
       "8575   998529794-975934594-45230  2016          VIKØY SERVICES AS   \n",
       "8576  994330489-918246169-882781  2016           HØVÅG TRIMMEN AS   \n",
       "\n",
       "     plaace_hierarchy_id            sales_channel_name  grunnkrets_id  \\\n",
       "0                1.1.1.0         Hamburger restaurants        3012704   \n",
       "1                1.1.1.0         Hamburger restaurants        8061401   \n",
       "2                1.1.1.0         Hamburger restaurants        3013917   \n",
       "3                1.1.1.0         Hamburger restaurants       16012104   \n",
       "4                1.1.1.0         Hamburger restaurants        3014305   \n",
       "...                  ...                           ...            ...   \n",
       "8572             2.8.2.0                        Kiosks       20040508   \n",
       "8573             3.2.4.0                          Spas       10180212   \n",
       "8574             3.2.4.0                          Spas        6280302   \n",
       "8575             3.4.2.0  Laundromats and dry cleaners       12190512   \n",
       "8576             3.6.1.0                          Gyms        9260108   \n",
       "\n",
       "                     address        lat        lon        chain_name  ...  \\\n",
       "0           STRØMSVEIEN 25 A  59.908672  10.787031               NaN  ...   \n",
       "1                    MYREN 1  59.201467   9.588243       BURGER KING  ...   \n",
       "2           STOVNER SENTER 3  59.962146  10.924524       BURGER KING  ...   \n",
       "3             TUNGASLETTA 16  63.420785  10.461091       BURGER KING  ...   \n",
       "4     AUD SCHØNEMANNS VEI 15  59.921102  10.785123  VULKAN BURGERBAR  ...   \n",
       "...                      ...        ...        ...               ...  ...   \n",
       "8572           SEILANDSVEIEN  70.540508  23.489153               NaN  ...   \n",
       "8573                     NaN  58.051363   7.648440               NaN  ...   \n",
       "8574         VERPENVEIEN 8 B  59.666010  10.569668               NaN  ...   \n",
       "8575      KVERNANESVEGEN 238  59.891397   5.114380               NaN  ...   \n",
       "8576        ØSTRE VALLESVERD  58.217703   8.271836               NaN  ...   \n",
       "\n",
       "       grunnkrets_name    district_name municipality_name  area_km2  \\\n",
       "0     Vålerenga rode 4        Vålerenga              Oslo  0.057027   \n",
       "1               Kjempa           Gulset             Skien  0.165993   \n",
       "2       Stovner senter           Fossum              Oslo  0.236628   \n",
       "3         Strindheim 4       Strindheim         Trondheim  0.983436   \n",
       "4          Lille Tøyen            Hasle              Oslo  0.449502   \n",
       "...                ...              ...               ...       ...   \n",
       "8572       Rypefjord 1        Sørøysund        Hammerfest  0.233519   \n",
       "8573          Skjernøy  Tregde-Skjernøy            Mandal  0.172808   \n",
       "8574          Storsand  Nordøstre Hurum             Hurum  2.427799   \n",
       "8575    Stolmen/Hevrøy   Ytre Austevoll         Austevoll  0.733720   \n",
       "8576       Nedre Høvåg            Høvåg         Lillesand  0.209442   \n",
       "\n",
       "      all_households   singles  couple_without_children  couple_with_children  \\\n",
       "0           386900.0  294200.0                 659000.0              799000.0   \n",
       "1           475200.0  272100.0                 595400.0              707400.0   \n",
       "2           451900.0  269100.0                 578600.0              662000.0   \n",
       "3           497400.0  293000.0                 614100.0              858400.0   \n",
       "4           489800.0  329900.0                 705100.0              819500.0   \n",
       "...              ...       ...                      ...                   ...   \n",
       "8572             NaN       NaN                      NaN                   NaN   \n",
       "8573             NaN       NaN                      NaN                   NaN   \n",
       "8574             NaN       NaN                      NaN                   NaN   \n",
       "8575             NaN       NaN                      NaN                   NaN   \n",
       "8576             NaN       NaN                      NaN                   NaN   \n",
       "\n",
       "      other_households  single_parent_with_children  \n",
       "0             624300.0                     381500.0  \n",
       "1             713400.0                     367900.0  \n",
       "2             734000.0                     372800.0  \n",
       "3             778000.0                     413400.0  \n",
       "4             714700.0                     400900.0  \n",
       "...                ...                          ...  \n",
       "8572               NaN                          NaN  \n",
       "8573               NaN                          NaN  \n",
       "8574               NaN                          NaN  \n",
       "8575               NaN                          NaN  \n",
       "8576               NaN                          NaN  \n",
       "\n",
       "[8577 rows x 21 columns]"
      ]
     },
     "execution_count": 6,
     "metadata": {},
     "output_type": "execute_result"
    }
   ],
   "source": [
    "income_df_test"
   ]
  },
  {
   "cell_type": "code",
   "execution_count": 7,
   "metadata": {},
   "outputs": [],
   "source": [
    "#income_df_test.to_csv(\"stores_gk_income_test.csv\")\n",
    "#merged_df.to_csv(\"stores_gk_income_train.csv\")\n"
   ]
  },
  {
   "cell_type": "code",
   "execution_count": 8,
   "metadata": {},
   "outputs": [
    {
     "data": {
      "text/html": [
       "<div>\n",
       "<style scoped>\n",
       "    .dataframe tbody tr th:only-of-type {\n",
       "        vertical-align: middle;\n",
       "    }\n",
       "\n",
       "    .dataframe tbody tr th {\n",
       "        vertical-align: top;\n",
       "    }\n",
       "\n",
       "    .dataframe thead th {\n",
       "        text-align: right;\n",
       "    }\n",
       "</style>\n",
       "<table border=\"1\" class=\"dataframe\">\n",
       "  <thead>\n",
       "    <tr style=\"text-align: right;\">\n",
       "      <th></th>\n",
       "      <th>all_households</th>\n",
       "      <th>singles</th>\n",
       "      <th>couple_without_children</th>\n",
       "      <th>couple_with_children</th>\n",
       "      <th>other_households</th>\n",
       "      <th>single_parent_with_children</th>\n",
       "    </tr>\n",
       "  </thead>\n",
       "  <tbody>\n",
       "    <tr>\n",
       "      <th>0</th>\n",
       "      <td>386900.0</td>\n",
       "      <td>294200.0</td>\n",
       "      <td>659000.0</td>\n",
       "      <td>799000.0</td>\n",
       "      <td>624300.0</td>\n",
       "      <td>381500.0</td>\n",
       "    </tr>\n",
       "    <tr>\n",
       "      <th>1</th>\n",
       "      <td>475200.0</td>\n",
       "      <td>272100.0</td>\n",
       "      <td>595400.0</td>\n",
       "      <td>707400.0</td>\n",
       "      <td>713400.0</td>\n",
       "      <td>367900.0</td>\n",
       "    </tr>\n",
       "    <tr>\n",
       "      <th>2</th>\n",
       "      <td>451900.0</td>\n",
       "      <td>269100.0</td>\n",
       "      <td>578600.0</td>\n",
       "      <td>662000.0</td>\n",
       "      <td>734000.0</td>\n",
       "      <td>372800.0</td>\n",
       "    </tr>\n",
       "    <tr>\n",
       "      <th>3</th>\n",
       "      <td>497400.0</td>\n",
       "      <td>293000.0</td>\n",
       "      <td>614100.0</td>\n",
       "      <td>858400.0</td>\n",
       "      <td>778000.0</td>\n",
       "      <td>413400.0</td>\n",
       "    </tr>\n",
       "    <tr>\n",
       "      <th>4</th>\n",
       "      <td>489800.0</td>\n",
       "      <td>329900.0</td>\n",
       "      <td>705100.0</td>\n",
       "      <td>819500.0</td>\n",
       "      <td>714700.0</td>\n",
       "      <td>400900.0</td>\n",
       "    </tr>\n",
       "    <tr>\n",
       "      <th>...</th>\n",
       "      <td>...</td>\n",
       "      <td>...</td>\n",
       "      <td>...</td>\n",
       "      <td>...</td>\n",
       "      <td>...</td>\n",
       "      <td>...</td>\n",
       "    </tr>\n",
       "    <tr>\n",
       "      <th>8572</th>\n",
       "      <td>NaN</td>\n",
       "      <td>NaN</td>\n",
       "      <td>NaN</td>\n",
       "      <td>NaN</td>\n",
       "      <td>NaN</td>\n",
       "      <td>NaN</td>\n",
       "    </tr>\n",
       "    <tr>\n",
       "      <th>8573</th>\n",
       "      <td>NaN</td>\n",
       "      <td>NaN</td>\n",
       "      <td>NaN</td>\n",
       "      <td>NaN</td>\n",
       "      <td>NaN</td>\n",
       "      <td>NaN</td>\n",
       "    </tr>\n",
       "    <tr>\n",
       "      <th>8574</th>\n",
       "      <td>NaN</td>\n",
       "      <td>NaN</td>\n",
       "      <td>NaN</td>\n",
       "      <td>NaN</td>\n",
       "      <td>NaN</td>\n",
       "      <td>NaN</td>\n",
       "    </tr>\n",
       "    <tr>\n",
       "      <th>8575</th>\n",
       "      <td>NaN</td>\n",
       "      <td>NaN</td>\n",
       "      <td>NaN</td>\n",
       "      <td>NaN</td>\n",
       "      <td>NaN</td>\n",
       "      <td>NaN</td>\n",
       "    </tr>\n",
       "    <tr>\n",
       "      <th>8576</th>\n",
       "      <td>NaN</td>\n",
       "      <td>NaN</td>\n",
       "      <td>NaN</td>\n",
       "      <td>NaN</td>\n",
       "      <td>NaN</td>\n",
       "      <td>NaN</td>\n",
       "    </tr>\n",
       "  </tbody>\n",
       "</table>\n",
       "<p>8577 rows × 6 columns</p>\n",
       "</div>"
      ],
      "text/plain": [
       "      all_households   singles  couple_without_children  couple_with_children  \\\n",
       "0           386900.0  294200.0                 659000.0              799000.0   \n",
       "1           475200.0  272100.0                 595400.0              707400.0   \n",
       "2           451900.0  269100.0                 578600.0              662000.0   \n",
       "3           497400.0  293000.0                 614100.0              858400.0   \n",
       "4           489800.0  329900.0                 705100.0              819500.0   \n",
       "...              ...       ...                      ...                   ...   \n",
       "8572             NaN       NaN                      NaN                   NaN   \n",
       "8573             NaN       NaN                      NaN                   NaN   \n",
       "8574             NaN       NaN                      NaN                   NaN   \n",
       "8575             NaN       NaN                      NaN                   NaN   \n",
       "8576             NaN       NaN                      NaN                   NaN   \n",
       "\n",
       "      other_households  single_parent_with_children  \n",
       "0             624300.0                     381500.0  \n",
       "1             713400.0                     367900.0  \n",
       "2             734000.0                     372800.0  \n",
       "3             778000.0                     413400.0  \n",
       "4             714700.0                     400900.0  \n",
       "...                ...                          ...  \n",
       "8572               NaN                          NaN  \n",
       "8573               NaN                          NaN  \n",
       "8574               NaN                          NaN  \n",
       "8575               NaN                          NaN  \n",
       "8576               NaN                          NaN  \n",
       "\n",
       "[8577 rows x 6 columns]"
      ]
     },
     "execution_count": 8,
     "metadata": {},
     "output_type": "execute_result"
    }
   ],
   "source": [
    "#train_dist_transformed = pd.DataFrame()\n",
    "\n",
    "include_list =  [\"all_households\", \"singles\", \"couple_without_children\",\"couple_with_children\", \"other_households\", \"single_parent_with_children\"]\n",
    "income_trans = income_df[include_list]\n",
    "income_trans_test = income_df_test[include_list]\n",
    "income_trans_test"
   ]
  },
  {
   "cell_type": "code",
   "execution_count": 9,
   "metadata": {},
   "outputs": [],
   "source": [
    "# simple impuder with mean \n",
    "\n",
    "class PandasSimpleImputer(SimpleImputer):\n",
    "    \"\"\"A wrapper around `SimpleImputer` to return data frames with columns.\n",
    "    \"\"\"\n",
    "\n",
    "    def fit(self, X, y=None):\n",
    "        self.columns = X.columns\n",
    "        return super().fit(X, y)\n",
    "\n",
    "    def transform(self, X):\n",
    "        return pd.DataFrame(super().transform(X), columns=self.columns)\n",
    "\n"
   ]
  },
  {
   "cell_type": "code",
   "execution_count": 10,
   "metadata": {},
   "outputs": [],
   "source": [
    "income_imp = PandasSimpleImputer().fit_transform(income_trans)\n",
    "income_imp_test = PandasSimpleImputer().fit_transform(income_trans_test)\n"
   ]
  },
  {
   "cell_type": "code",
   "execution_count": 11,
   "metadata": {},
   "outputs": [
    {
     "data": {
      "text/html": [
       "<div>\n",
       "<style scoped>\n",
       "    .dataframe tbody tr th:only-of-type {\n",
       "        vertical-align: middle;\n",
       "    }\n",
       "\n",
       "    .dataframe tbody tr th {\n",
       "        vertical-align: top;\n",
       "    }\n",
       "\n",
       "    .dataframe thead th {\n",
       "        text-align: right;\n",
       "    }\n",
       "</style>\n",
       "<table border=\"1\" class=\"dataframe\">\n",
       "  <thead>\n",
       "    <tr style=\"text-align: right;\">\n",
       "      <th></th>\n",
       "      <th>all_households</th>\n",
       "      <th>singles</th>\n",
       "      <th>couple_without_children</th>\n",
       "      <th>couple_with_children</th>\n",
       "      <th>other_households</th>\n",
       "      <th>single_parent_with_children</th>\n",
       "    </tr>\n",
       "  </thead>\n",
       "  <tbody>\n",
       "    <tr>\n",
       "      <th>0</th>\n",
       "      <td>386900.000000</td>\n",
       "      <td>294200.000000</td>\n",
       "      <td>659000.000000</td>\n",
       "      <td>799000.000000</td>\n",
       "      <td>624300.000000</td>\n",
       "      <td>381500.000000</td>\n",
       "    </tr>\n",
       "    <tr>\n",
       "      <th>1</th>\n",
       "      <td>475200.000000</td>\n",
       "      <td>272100.000000</td>\n",
       "      <td>595400.000000</td>\n",
       "      <td>707400.000000</td>\n",
       "      <td>713400.000000</td>\n",
       "      <td>367900.000000</td>\n",
       "    </tr>\n",
       "    <tr>\n",
       "      <th>2</th>\n",
       "      <td>451900.000000</td>\n",
       "      <td>269100.000000</td>\n",
       "      <td>578600.000000</td>\n",
       "      <td>662000.000000</td>\n",
       "      <td>734000.000000</td>\n",
       "      <td>372800.000000</td>\n",
       "    </tr>\n",
       "    <tr>\n",
       "      <th>3</th>\n",
       "      <td>497400.000000</td>\n",
       "      <td>293000.000000</td>\n",
       "      <td>614100.000000</td>\n",
       "      <td>858400.000000</td>\n",
       "      <td>778000.000000</td>\n",
       "      <td>413400.000000</td>\n",
       "    </tr>\n",
       "    <tr>\n",
       "      <th>4</th>\n",
       "      <td>489800.000000</td>\n",
       "      <td>329900.000000</td>\n",
       "      <td>705100.000000</td>\n",
       "      <td>819500.000000</td>\n",
       "      <td>714700.000000</td>\n",
       "      <td>400900.000000</td>\n",
       "    </tr>\n",
       "    <tr>\n",
       "      <th>...</th>\n",
       "      <td>...</td>\n",
       "      <td>...</td>\n",
       "      <td>...</td>\n",
       "      <td>...</td>\n",
       "      <td>...</td>\n",
       "      <td>...</td>\n",
       "    </tr>\n",
       "    <tr>\n",
       "      <th>8572</th>\n",
       "      <td>468908.502924</td>\n",
       "      <td>281114.280702</td>\n",
       "      <td>614534.280702</td>\n",
       "      <td>761482.444444</td>\n",
       "      <td>728590.502924</td>\n",
       "      <td>377456.584795</td>\n",
       "    </tr>\n",
       "    <tr>\n",
       "      <th>8573</th>\n",
       "      <td>468908.502924</td>\n",
       "      <td>281114.280702</td>\n",
       "      <td>614534.280702</td>\n",
       "      <td>761482.444444</td>\n",
       "      <td>728590.502924</td>\n",
       "      <td>377456.584795</td>\n",
       "    </tr>\n",
       "    <tr>\n",
       "      <th>8574</th>\n",
       "      <td>468908.502924</td>\n",
       "      <td>281114.280702</td>\n",
       "      <td>614534.280702</td>\n",
       "      <td>761482.444444</td>\n",
       "      <td>728590.502924</td>\n",
       "      <td>377456.584795</td>\n",
       "    </tr>\n",
       "    <tr>\n",
       "      <th>8575</th>\n",
       "      <td>468908.502924</td>\n",
       "      <td>281114.280702</td>\n",
       "      <td>614534.280702</td>\n",
       "      <td>761482.444444</td>\n",
       "      <td>728590.502924</td>\n",
       "      <td>377456.584795</td>\n",
       "    </tr>\n",
       "    <tr>\n",
       "      <th>8576</th>\n",
       "      <td>468908.502924</td>\n",
       "      <td>281114.280702</td>\n",
       "      <td>614534.280702</td>\n",
       "      <td>761482.444444</td>\n",
       "      <td>728590.502924</td>\n",
       "      <td>377456.584795</td>\n",
       "    </tr>\n",
       "  </tbody>\n",
       "</table>\n",
       "<p>8577 rows × 6 columns</p>\n",
       "</div>"
      ],
      "text/plain": [
       "      all_households        singles  couple_without_children  \\\n",
       "0      386900.000000  294200.000000            659000.000000   \n",
       "1      475200.000000  272100.000000            595400.000000   \n",
       "2      451900.000000  269100.000000            578600.000000   \n",
       "3      497400.000000  293000.000000            614100.000000   \n",
       "4      489800.000000  329900.000000            705100.000000   \n",
       "...              ...            ...                      ...   \n",
       "8572   468908.502924  281114.280702            614534.280702   \n",
       "8573   468908.502924  281114.280702            614534.280702   \n",
       "8574   468908.502924  281114.280702            614534.280702   \n",
       "8575   468908.502924  281114.280702            614534.280702   \n",
       "8576   468908.502924  281114.280702            614534.280702   \n",
       "\n",
       "      couple_with_children  other_households  single_parent_with_children  \n",
       "0            799000.000000     624300.000000                381500.000000  \n",
       "1            707400.000000     713400.000000                367900.000000  \n",
       "2            662000.000000     734000.000000                372800.000000  \n",
       "3            858400.000000     778000.000000                413400.000000  \n",
       "4            819500.000000     714700.000000                400900.000000  \n",
       "...                    ...               ...                          ...  \n",
       "8572         761482.444444     728590.502924                377456.584795  \n",
       "8573         761482.444444     728590.502924                377456.584795  \n",
       "8574         761482.444444     728590.502924                377456.584795  \n",
       "8575         761482.444444     728590.502924                377456.584795  \n",
       "8576         761482.444444     728590.502924                377456.584795  \n",
       "\n",
       "[8577 rows x 6 columns]"
      ]
     },
     "execution_count": 11,
     "metadata": {},
     "output_type": "execute_result"
    }
   ],
   "source": [
    "income_imp_test"
   ]
  },
  {
   "cell_type": "code",
   "execution_count": 12,
   "metadata": {},
   "outputs": [],
   "source": [
    "#Check wether or not a feature is guassian or normal distributed, using Q-Q plot \n",
    "\n",
    "def plot_data(df,feature):\n",
    "    plt.figure(figsize=(10,6))\n",
    "    plt.subplot(1,2,1)\n",
    "    df[feature].hist()\n",
    "    plt.subplot(1,2,2)\n",
    "    stat.probplot(df[feature],dist='norm',plot=pylab)\n",
    "    plt.show()\n",
    "    \n",
    "def plots(df, var, t):\n",
    "    plt.figure(figsize=(13,5))\n",
    "    plt.subplot(121)\n",
    "    sns.kdeplot(df[var])\n",
    "    plt.title('before ' + str(t).split('(')[0])\n",
    "    \n",
    "    plt.subplot(122)\n",
    "    p1 = t.fit_transform(df[[var]]).flatten()\n",
    "    sns.kdeplot(p1)\n",
    "    plt.title('after ' + str(t).split('(')[0])\n",
    "\n"
   ]
  },
  {
   "cell_type": "code",
   "execution_count": 13,
   "metadata": {},
   "outputs": [
    {
     "data": {
      "image/png": "[encoded data removed]",
      "text/plain": [
       "<Figure size 720x432 with 2 Axes>"
      ]
     },
     "metadata": {
      "needs_background": "light"
     },
     "output_type": "display_data"
    }
   ],
   "source": [
    "#plot_data(train_dist, \"closeststore__distance_lv1_desc\")\n",
    "plot_data(income_imp_test, \"all_households\")"
   ]
  },
  {
   "cell_type": "markdown",
   "metadata": {},
   "source": [
    "### Log Transform "
   ]
  },
  {
   "cell_type": "code",
   "execution_count": 14,
   "metadata": {},
   "outputs": [
    {
     "data": {
      "image/png": "[encoded data removed]",
      "text/plain": [
       "<Figure size 720x432 with 2 Axes>"
      ]
     },
     "metadata": {
      "needs_background": "light"
     },
     "output_type": "display_data"
    }
   ],
   "source": [
    "#Taking log(1+x)\n",
    "\n",
    "#train_dist_transformed[\"cs_lv1_log\"] = np.log(train_dist[\"closeststore__distance_lv1_desc\"])\n",
    "#plot_data(train_dist_transformed, \"cs_lv1_log\")\n",
    "\n",
    "income_imp[\"singles_log\"] = np.log(1+income_imp.singles)\n",
    "plot_data(income_imp, \"singles_log\")"
   ]
  },
  {
   "cell_type": "markdown",
   "metadata": {},
   "source": [
    "### Reciprocal Trnasformation"
   ]
  },
  {
   "cell_type": "code",
   "execution_count": 15,
   "metadata": {},
   "outputs": [
    {
     "data": {
      "image/png": "[encoded data removed]",
      "text/plain": [
       "<Figure size 720x432 with 2 Axes>"
      ]
     },
     "metadata": {
      "needs_background": "light"
     },
     "output_type": "display_data"
    }
   ],
   "source": [
    "### Taking 1/(1+x)\n",
    "\n",
    "#train_dist_transformed[\"cs_lv1_reciprocal\"]= 1 / (train_dist[\"closeststore__distance_lv1_desc\"])\n",
    "#plot_data(train_dist_transformed, \"cs_lv1_reciprocal\")\n",
    "\n",
    "income_imp[\"singles_reciprocal\"] = 1 / (1+income_imp.singles)\n",
    "plot_data(income_imp, \"singles_reciprocal\")"
   ]
  },
  {
   "cell_type": "markdown",
   "metadata": {},
   "source": [
    "### Square root transformation "
   ]
  },
  {
   "cell_type": "code",
   "execution_count": 16,
   "metadata": {},
   "outputs": [
    {
     "data": {
      "image/png": "[encoded data removed]",
      "text/plain": [
       "<Figure size 720x432 with 2 Axes>"
      ]
     },
     "metadata": {
      "needs_background": "light"
     },
     "output_type": "display_data"
    }
   ],
   "source": [
    "#train_dist_transformed[\"cs_lv1_squared\"] = train_dist[\"closeststore__distance_lv1_desc\"]**(1/2)\n",
    "#plot_data(train_dist_transformed, \"cs_lv1_squared\")\n",
    "\n",
    "income_imp[\"singles_squared\"] = income_imp[\"singles\"]**(1/2)\n",
    "plot_data(income_imp, \"singles_squared\")"
   ]
  },
  {
   "cell_type": "markdown",
   "metadata": {},
   "source": [
    "### Exponential Transdormation"
   ]
  },
  {
   "cell_type": "code",
   "execution_count": 17,
   "metadata": {},
   "outputs": [
    {
     "data": {
      "image/png": "[encoded data removed]",
      "text/plain": [
       "<Figure size 720x432 with 2 Axes>"
      ]
     },
     "metadata": {
      "needs_background": "light"
     },
     "output_type": "display_data"
    }
   ],
   "source": [
    "#train_dist_transformed[\"cs_lv1_exp\"] = train_dist[\"closeststore__distance_lv1_desc\"]**(1/1.2)\n",
    "#plot_data(train_dist_transformed,\"cs_lv1_exp\")\n",
    "\n",
    "income_imp[\"singles_exp\"] = income_imp[\"singles\"]**(1/1.2)\n",
    "plot_data(income_imp, \"singles_exp\")"
   ]
  },
  {
   "cell_type": "markdown",
   "metadata": {},
   "source": [
    "### BoxCOx Transformation\n",
    "The Box-Cox transformation is defined as:\n",
    "\n",
    "T(Y)=(Y exp(λ)−1)/λ\n",
    "\n",
    "where Y is the response variable and λ is the transformation parameter. λ varies from -5 to 5. In the transformation, all values of λ are considered and the optimal value for a given variable is selected."
   ]
  },
  {
   "cell_type": "code",
   "execution_count": 18,
   "metadata": {},
   "outputs": [
    {
     "ename": "ValueError",
     "evalue": "Data must be positive.",
     "output_type": "error",
     "traceback": [
      "\u001b[0;31m---------------------------------------------------------------------------\u001b[0m",
      "\u001b[0;31mValueError\u001b[0m                                Traceback (most recent call last)",
      "\u001b[0;32m<ipython-input-18-8b868abc1b5d>\u001b[0m in \u001b[0;36m<module>\u001b[0;34m\u001b[0m\n\u001b[1;32m      2\u001b[0m \u001b[0;31m#plot_data(train_dist_transformed, \"cs_lv1_boxcox\")\u001b[0m\u001b[0;34m\u001b[0m\u001b[0;34m\u001b[0m\u001b[0;34m\u001b[0m\u001b[0m\n\u001b[1;32m      3\u001b[0m \u001b[0;34m\u001b[0m\u001b[0m\n\u001b[0;32m----> 4\u001b[0;31m \u001b[0mincome_imp\u001b[0m\u001b[0;34m[\u001b[0m\u001b[0;34m\"singles_boxcox\"\u001b[0m\u001b[0;34m]\u001b[0m\u001b[0;34m,\u001b[0m \u001b[0mparameters\u001b[0m \u001b[0;34m=\u001b[0m \u001b[0mstat\u001b[0m\u001b[0;34m.\u001b[0m\u001b[0mboxcox\u001b[0m\u001b[0;34m(\u001b[0m\u001b[0mincome_imp\u001b[0m\u001b[0;34m[\u001b[0m\u001b[0;34m\"singles\"\u001b[0m\u001b[0;34m]\u001b[0m\u001b[0;34m)\u001b[0m\u001b[0;34m\u001b[0m\u001b[0;34m\u001b[0m\u001b[0m\n\u001b[0m\u001b[1;32m      5\u001b[0m \u001b[0mplot_data\u001b[0m\u001b[0;34m(\u001b[0m\u001b[0mincome_imp\u001b[0m\u001b[0;34m,\u001b[0m \u001b[0;34m\"singles_boxcox\"\u001b[0m\u001b[0;34m)\u001b[0m\u001b[0;34m\u001b[0m\u001b[0;34m\u001b[0m\u001b[0m\n",
      "\u001b[0;32m~/opt/anaconda3/lib/python3.8/site-packages/scipy/stats/morestats.py\u001b[0m in \u001b[0;36mboxcox\u001b[0;34m(x, lmbda, alpha)\u001b[0m\n\u001b[1;32m   1041\u001b[0m \u001b[0;34m\u001b[0m\u001b[0m\n\u001b[1;32m   1042\u001b[0m     \u001b[0;32mif\u001b[0m \u001b[0many\u001b[0m\u001b[0;34m(\u001b[0m\u001b[0mx\u001b[0m \u001b[0;34m<=\u001b[0m \u001b[0;36m0\u001b[0m\u001b[0;34m)\u001b[0m\u001b[0;34m:\u001b[0m\u001b[0;34m\u001b[0m\u001b[0;34m\u001b[0m\u001b[0m\n\u001b[0;32m-> 1043\u001b[0;31m         \u001b[0;32mraise\u001b[0m \u001b[0mValueError\u001b[0m\u001b[0;34m(\u001b[0m\u001b[0;34m\"Data must be positive.\"\u001b[0m\u001b[0;34m)\u001b[0m\u001b[0;34m\u001b[0m\u001b[0;34m\u001b[0m\u001b[0m\n\u001b[0m\u001b[1;32m   1044\u001b[0m \u001b[0;34m\u001b[0m\u001b[0m\n\u001b[1;32m   1045\u001b[0m     \u001b[0;32mif\u001b[0m \u001b[0mlmbda\u001b[0m \u001b[0;32mis\u001b[0m \u001b[0;32mnot\u001b[0m \u001b[0;32mNone\u001b[0m\u001b[0;34m:\u001b[0m  \u001b[0;31m# single transformation\u001b[0m\u001b[0;34m\u001b[0m\u001b[0;34m\u001b[0m\u001b[0m\n",
      "\u001b[0;31mValueError\u001b[0m: Data must be positive."
     ]
    }
   ],
   "source": [
    "#train_dist_transformed[\"cs_lv1_boxcox\"], parameters = stat.boxcox(train_dist[\"closeststore__distance_lv1_desc\"])\n",
    "#plot_data(train_dist_transformed, \"cs_lv1_boxcox\")\n",
    "\n",
    "income_imp[\"singles_boxcox\"], parameters = stat.boxcox(income_imp[\"singles\"])\n",
    "plot_data(income_imp, \"singles_boxcox\")\n"
   ]
  },
  {
   "cell_type": "code",
   "execution_count": null,
   "metadata": {},
   "outputs": [
    {
     "data": {
      "image/png": "[encoded data removed]",
      "text/plain": [
       "<Figure size 720x432 with 2 Axes>"
      ]
     },
     "metadata": {
      "needs_background": "light"
     },
     "output_type": "display_data"
    }
   ],
   "source": [
    "#train_dist_transformed[\"cs_lv1_yeojohnson\"], parameters = stat.yeojohnson(train_dist[\"closeststore__distance_lv1_desc\"])\n",
    "#plot_data(train_dist_transformed, \"cs_lv1_yeojohnson\")\n",
    "\n",
    "income_imp[\"singles_yeo\"], parameters = stat.yeojohnson(income_imp[\"singles\"])\n",
    "plot_data(income_imp, \"singles_yeo\")  "
   ]
  },
  {
   "cell_type": "code",
   "execution_count": 19,
   "metadata": {},
   "outputs": [
    {
     "data": {
      "image/png": "[encoded data removed]",
      "text/plain": [
       "<Figure size 936x360 with 2 Axes>"
      ]
     },
     "metadata": {
      "needs_background": "light"
     },
     "output_type": "display_data"
    },
    {
     "data": {
      "image/png": "[encoded data removed]",
      "text/plain": [
       "<Figure size 936x360 with 2 Axes>"
      ]
     },
     "metadata": {
      "needs_background": "light"
     },
     "output_type": "display_data"
    }
   ],
   "source": [
    "#plots(train_dist, \"closeststore__distance_lv1_desc\", PowerTransformer())\n",
    "plots(income_imp, \"singles\", PowerTransformer())\n",
    "plots(income_imp, \"all_households\", PowerTransformer())"
   ]
  },
  {
   "cell_type": "code",
   "execution_count": 20,
   "metadata": {},
   "outputs": [
    {
     "ename": "AttributeError",
     "evalue": "'DataFrame' object has no attribute 'all_house_yeo'",
     "output_type": "error",
     "traceback": [
      "\u001b[0;31m---------------------------------------------------------------------------\u001b[0m",
      "\u001b[0;31mAttributeError\u001b[0m                            Traceback (most recent call last)",
      "\u001b[0;32m<ipython-input-20-647f1eb97d7b>\u001b[0m in \u001b[0;36m<module>\u001b[0;34m\u001b[0m\n\u001b[1;32m      2\u001b[0m \u001b[0mincome_imp\u001b[0m\u001b[0;34m.\u001b[0m\u001b[0mall_households\u001b[0m\u001b[0;34m.\u001b[0m\u001b[0mplot\u001b[0m\u001b[0;34m.\u001b[0m\u001b[0mhist\u001b[0m\u001b[0;34m(\u001b[0m\u001b[0mbins\u001b[0m\u001b[0;34m=\u001b[0m\u001b[0;36m100\u001b[0m\u001b[0;34m,\u001b[0m \u001b[0max\u001b[0m\u001b[0;34m=\u001b[0m\u001b[0max1\u001b[0m\u001b[0;34m)\u001b[0m\u001b[0;34m\u001b[0m\u001b[0;34m\u001b[0m\u001b[0m\n\u001b[1;32m      3\u001b[0m \u001b[0max1\u001b[0m\u001b[0;34m.\u001b[0m\u001b[0mset_title\u001b[0m\u001b[0;34m(\u001b[0m\u001b[0;34m'Distribution of Revenues'\u001b[0m\u001b[0;34m)\u001b[0m\u001b[0;34m;\u001b[0m\u001b[0;34m\u001b[0m\u001b[0;34m\u001b[0m\u001b[0m\n\u001b[0;32m----> 4\u001b[0;31m \u001b[0mincome_imp\u001b[0m\u001b[0;34m.\u001b[0m\u001b[0mall_house_yeo\u001b[0m\u001b[0;34m.\u001b[0m\u001b[0mplot\u001b[0m\u001b[0;34m.\u001b[0m\u001b[0mhist\u001b[0m\u001b[0;34m(\u001b[0m\u001b[0mbins\u001b[0m\u001b[0;34m=\u001b[0m\u001b[0;36m100\u001b[0m\u001b[0;34m,\u001b[0m \u001b[0max\u001b[0m \u001b[0;34m=\u001b[0m \u001b[0max2\u001b[0m\u001b[0;34m)\u001b[0m\u001b[0;34m\u001b[0m\u001b[0;34m\u001b[0m\u001b[0m\n\u001b[0m\u001b[1;32m      5\u001b[0m \u001b[0max2\u001b[0m\u001b[0;34m.\u001b[0m\u001b[0mset_title\u001b[0m\u001b[0;34m(\u001b[0m\u001b[0;34m\"Transformed\"\u001b[0m\u001b[0;34m)\u001b[0m\u001b[0;34m\u001b[0m\u001b[0;34m\u001b[0m\u001b[0m\n",
      "\u001b[0;32m~/opt/anaconda3/lib/python3.8/site-packages/pandas/core/generic.py\u001b[0m in \u001b[0;36m__getattr__\u001b[0;34m(self, name)\u001b[0m\n\u001b[1;32m   5272\u001b[0m             \u001b[0;32mif\u001b[0m \u001b[0mself\u001b[0m\u001b[0;34m.\u001b[0m\u001b[0m_info_axis\u001b[0m\u001b[0;34m.\u001b[0m\u001b[0m_can_hold_identifiers_and_holds_name\u001b[0m\u001b[0;34m(\u001b[0m\u001b[0mname\u001b[0m\u001b[0;34m)\u001b[0m\u001b[0;34m:\u001b[0m\u001b[0;34m\u001b[0m\u001b[0;34m\u001b[0m\u001b[0m\n\u001b[1;32m   5273\u001b[0m                 \u001b[0;32mreturn\u001b[0m \u001b[0mself\u001b[0m\u001b[0;34m[\u001b[0m\u001b[0mname\u001b[0m\u001b[0;34m]\u001b[0m\u001b[0;34m\u001b[0m\u001b[0;34m\u001b[0m\u001b[0m\n\u001b[0;32m-> 5274\u001b[0;31m             \u001b[0;32mreturn\u001b[0m \u001b[0mobject\u001b[0m\u001b[0;34m.\u001b[0m\u001b[0m__getattribute__\u001b[0m\u001b[0;34m(\u001b[0m\u001b[0mself\u001b[0m\u001b[0;34m,\u001b[0m \u001b[0mname\u001b[0m\u001b[0;34m)\u001b[0m\u001b[0;34m\u001b[0m\u001b[0;34m\u001b[0m\u001b[0m\n\u001b[0m\u001b[1;32m   5275\u001b[0m \u001b[0;34m\u001b[0m\u001b[0m\n\u001b[1;32m   5276\u001b[0m     \u001b[0;32mdef\u001b[0m \u001b[0m__setattr__\u001b[0m\u001b[0;34m(\u001b[0m\u001b[0mself\u001b[0m\u001b[0;34m,\u001b[0m \u001b[0mname\u001b[0m\u001b[0;34m:\u001b[0m \u001b[0mstr\u001b[0m\u001b[0;34m,\u001b[0m \u001b[0mvalue\u001b[0m\u001b[0;34m)\u001b[0m \u001b[0;34m->\u001b[0m \u001b[0;32mNone\u001b[0m\u001b[0;34m:\u001b[0m\u001b[0;34m\u001b[0m\u001b[0;34m\u001b[0m\u001b[0m\n",
      "\u001b[0;31mAttributeError\u001b[0m: 'DataFrame' object has no attribute 'all_house_yeo'"
     ]
    },
    {
     "data": {
      "image/png": "[encoded data removed]",
      "text/plain": [
       "<Figure size 864x216 with 2 Axes>"
      ]
     },
     "metadata": {
      "needs_background": "light"
     },
     "output_type": "display_data"
    }
   ],
   "source": [
    "fig, (ax1, ax2) = plt.subplots(figsize=(12, 3), ncols=2)\n",
    "income_imp.all_households.plot.hist(bins=100, ax=ax1)\n",
    "ax1.set_title('Distribution of Revenues');\n",
    "income_imp.all_house_yeo.plot.hist(bins=100, ax = ax2)\n",
    "ax2.set_title(\"Transformed\")"
   ]
  },
  {
   "cell_type": "markdown",
   "metadata": {},
   "source": [
    "## Using Scikitlearn PowerTransform can choose either Box-cox or Yeo-johnson "
   ]
  },
  {
   "cell_type": "code",
   "execution_count": 21,
   "metadata": {},
   "outputs": [
    {
     "ename": "NameError",
     "evalue": "name 'train_dist_transformed' is not defined",
     "output_type": "error",
     "traceback": [
      "\u001b[0;31m---------------------------------------------------------------------------\u001b[0m",
      "\u001b[0;31mNameError\u001b[0m                                 Traceback (most recent call last)",
      "\u001b[0;32m<ipython-input-21-a42a515428ad>\u001b[0m in \u001b[0;36m<module>\u001b[0;34m\u001b[0m\n\u001b[1;32m      1\u001b[0m \u001b[0mpt\u001b[0m \u001b[0;34m=\u001b[0m \u001b[0mPowerTransformer\u001b[0m\u001b[0;34m(\u001b[0m\u001b[0mmethod\u001b[0m \u001b[0;34m=\u001b[0m \u001b[0;34m\"box-cox\"\u001b[0m\u001b[0;34m)\u001b[0m\u001b[0;34m\u001b[0m\u001b[0;34m\u001b[0m\u001b[0m\n\u001b[1;32m      2\u001b[0m \u001b[0mcs_lv1_transformed\u001b[0m \u001b[0;34m=\u001b[0m \u001b[0mpt\u001b[0m\u001b[0;34m.\u001b[0m\u001b[0mfit_transform\u001b[0m\u001b[0;34m(\u001b[0m\u001b[0mtrain_dist\u001b[0m\u001b[0;34m[\u001b[0m\u001b[0;34m[\u001b[0m\u001b[0;34m\"closeststore__distance_lv1_desc\"\u001b[0m\u001b[0;34m]\u001b[0m\u001b[0;34m]\u001b[0m\u001b[0;34m)\u001b[0m\u001b[0;34m\u001b[0m\u001b[0;34m\u001b[0m\u001b[0m\n\u001b[0;32m----> 3\u001b[0;31m \u001b[0mtrain_dist_transformed\u001b[0m\u001b[0;34m[\u001b[0m\u001b[0;34m\"cs_lv1_boxcox_test\"\u001b[0m\u001b[0;34m]\u001b[0m \u001b[0;34m=\u001b[0m \u001b[0mcs_lv1_transformed\u001b[0m\u001b[0;34m\u001b[0m\u001b[0;34m\u001b[0m\u001b[0m\n\u001b[0m",
      "\u001b[0;31mNameError\u001b[0m: name 'train_dist_transformed' is not defined"
     ]
    }
   ],
   "source": [
    "pt = PowerTransformer(method = \"box-cox\")\n",
    "cs_lv1_transformed = pt.fit_transform(train_dist[[\"closeststore__distance_lv1_desc\"]])\n",
    "train_dist_transformed[\"cs_lv1_boxcox_test\"] = cs_lv1_transformed\n"
   ]
  },
  {
   "cell_type": "code",
   "execution_count": 22,
   "metadata": {},
   "outputs": [
    {
     "ename": "NameError",
     "evalue": "name 'train_dist_transformed' is not defined",
     "output_type": "error",
     "traceback": [
      "\u001b[0;31m---------------------------------------------------------------------------\u001b[0m",
      "\u001b[0;31mNameError\u001b[0m                                 Traceback (most recent call last)",
      "\u001b[0;32m<ipython-input-22-25827eaac5a9>\u001b[0m in \u001b[0;36m<module>\u001b[0;34m\u001b[0m\n\u001b[0;32m----> 1\u001b[0;31m \u001b[0mplot_data\u001b[0m\u001b[0;34m(\u001b[0m\u001b[0mtrain_dist_transformed\u001b[0m\u001b[0;34m,\u001b[0m \u001b[0;34m\"cs_lv1_boxcox_test\"\u001b[0m\u001b[0;34m)\u001b[0m\u001b[0;34m\u001b[0m\u001b[0;34m\u001b[0m\u001b[0m\n\u001b[0m",
      "\u001b[0;31mNameError\u001b[0m: name 'train_dist_transformed' is not defined"
     ]
    }
   ],
   "source": [
    "plot_data(train_dist_transformed, \"cs_lv1_boxcox_test\")"
   ]
  },
  {
   "cell_type": "code",
   "execution_count": 23,
   "metadata": {},
   "outputs": [
    {
     "data": {
      "image/png": "[encoded data removed]",
      "text/plain": [
       "<Figure size 720x432 with 2 Axes>"
      ]
     },
     "metadata": {
      "needs_background": "light"
     },
     "output_type": "display_data"
    }
   ],
   "source": [
    "#pt2 = PowerTransformer()\n",
    "\n",
    "#cs_lv1_pt = pt2.fit_transform(train_dist[[\"closeststore__distance_lv1_desc\"]])\n",
    "#train_dist_transformed[\"cs_lv1_yeojohson_test\"] = cs_lv1_pt\n",
    "#plot_data(train_dist_transformed, \"cs_lv1_yeojohson_test\")\n",
    "\n",
    "pt2 = PowerTransformer()\n",
    "\n",
    "income_all = pt2.fit_transform(income_imp[[\"all_households\"]])\n",
    "income_imp[\"pt_all_house\"] = income_all\n",
    "\n",
    "#income_singles = pt2.fit_transform(income_imp[[\"singles\"]]) \n",
    "#income_imp[\"pt_singles\"] = income_singles\n",
    "\n",
    "plot_data(income_imp, \"pt_all_house\")\n",
    "#plot_data(income_imp, \"pt_singles\")"
   ]
  },
  {
   "cell_type": "markdown",
   "metadata": {},
   "source": [
    "### Do impuding and powertransformation directly to the train and test sets after testing above"
   ]
  },
  {
   "cell_type": "code",
   "execution_count": 24,
   "metadata": {},
   "outputs": [
    {
     "data": {
      "text/html": [
       "<div>\n",
       "<style scoped>\n",
       "    .dataframe tbody tr th:only-of-type {\n",
       "        vertical-align: middle;\n",
       "    }\n",
       "\n",
       "    .dataframe tbody tr th {\n",
       "        vertical-align: top;\n",
       "    }\n",
       "\n",
       "    .dataframe thead th {\n",
       "        text-align: right;\n",
       "    }\n",
       "</style>\n",
       "<table border=\"1\" class=\"dataframe\">\n",
       "  <thead>\n",
       "    <tr style=\"text-align: right;\">\n",
       "      <th></th>\n",
       "      <th>all_households</th>\n",
       "      <th>singles</th>\n",
       "      <th>couple_without_children</th>\n",
       "      <th>couple_with_children</th>\n",
       "      <th>other_households</th>\n",
       "      <th>single_parent_with_children</th>\n",
       "    </tr>\n",
       "  </thead>\n",
       "  <tbody>\n",
       "    <tr>\n",
       "      <th>0</th>\n",
       "      <td>386900.000000</td>\n",
       "      <td>294200.000000</td>\n",
       "      <td>659000.000000</td>\n",
       "      <td>799000.000000</td>\n",
       "      <td>624300.000000</td>\n",
       "      <td>381500.000000</td>\n",
       "    </tr>\n",
       "    <tr>\n",
       "      <th>1</th>\n",
       "      <td>475200.000000</td>\n",
       "      <td>272100.000000</td>\n",
       "      <td>595400.000000</td>\n",
       "      <td>707400.000000</td>\n",
       "      <td>713400.000000</td>\n",
       "      <td>367900.000000</td>\n",
       "    </tr>\n",
       "    <tr>\n",
       "      <th>2</th>\n",
       "      <td>451900.000000</td>\n",
       "      <td>269100.000000</td>\n",
       "      <td>578600.000000</td>\n",
       "      <td>662000.000000</td>\n",
       "      <td>734000.000000</td>\n",
       "      <td>372800.000000</td>\n",
       "    </tr>\n",
       "    <tr>\n",
       "      <th>3</th>\n",
       "      <td>497400.000000</td>\n",
       "      <td>293000.000000</td>\n",
       "      <td>614100.000000</td>\n",
       "      <td>858400.000000</td>\n",
       "      <td>778000.000000</td>\n",
       "      <td>413400.000000</td>\n",
       "    </tr>\n",
       "    <tr>\n",
       "      <th>4</th>\n",
       "      <td>489800.000000</td>\n",
       "      <td>329900.000000</td>\n",
       "      <td>705100.000000</td>\n",
       "      <td>819500.000000</td>\n",
       "      <td>714700.000000</td>\n",
       "      <td>400900.000000</td>\n",
       "    </tr>\n",
       "    <tr>\n",
       "      <th>...</th>\n",
       "      <td>...</td>\n",
       "      <td>...</td>\n",
       "      <td>...</td>\n",
       "      <td>...</td>\n",
       "      <td>...</td>\n",
       "      <td>...</td>\n",
       "    </tr>\n",
       "    <tr>\n",
       "      <th>8572</th>\n",
       "      <td>468908.502924</td>\n",
       "      <td>281114.280702</td>\n",
       "      <td>614534.280702</td>\n",
       "      <td>761482.444444</td>\n",
       "      <td>728590.502924</td>\n",
       "      <td>377456.584795</td>\n",
       "    </tr>\n",
       "    <tr>\n",
       "      <th>8573</th>\n",
       "      <td>468908.502924</td>\n",
       "      <td>281114.280702</td>\n",
       "      <td>614534.280702</td>\n",
       "      <td>761482.444444</td>\n",
       "      <td>728590.502924</td>\n",
       "      <td>377456.584795</td>\n",
       "    </tr>\n",
       "    <tr>\n",
       "      <th>8574</th>\n",
       "      <td>468908.502924</td>\n",
       "      <td>281114.280702</td>\n",
       "      <td>614534.280702</td>\n",
       "      <td>761482.444444</td>\n",
       "      <td>728590.502924</td>\n",
       "      <td>377456.584795</td>\n",
       "    </tr>\n",
       "    <tr>\n",
       "      <th>8575</th>\n",
       "      <td>468908.502924</td>\n",
       "      <td>281114.280702</td>\n",
       "      <td>614534.280702</td>\n",
       "      <td>761482.444444</td>\n",
       "      <td>728590.502924</td>\n",
       "      <td>377456.584795</td>\n",
       "    </tr>\n",
       "    <tr>\n",
       "      <th>8576</th>\n",
       "      <td>468908.502924</td>\n",
       "      <td>281114.280702</td>\n",
       "      <td>614534.280702</td>\n",
       "      <td>761482.444444</td>\n",
       "      <td>728590.502924</td>\n",
       "      <td>377456.584795</td>\n",
       "    </tr>\n",
       "  </tbody>\n",
       "</table>\n",
       "<p>8577 rows × 6 columns</p>\n",
       "</div>"
      ],
      "text/plain": [
       "      all_households        singles  couple_without_children  \\\n",
       "0      386900.000000  294200.000000            659000.000000   \n",
       "1      475200.000000  272100.000000            595400.000000   \n",
       "2      451900.000000  269100.000000            578600.000000   \n",
       "3      497400.000000  293000.000000            614100.000000   \n",
       "4      489800.000000  329900.000000            705100.000000   \n",
       "...              ...            ...                      ...   \n",
       "8572   468908.502924  281114.280702            614534.280702   \n",
       "8573   468908.502924  281114.280702            614534.280702   \n",
       "8574   468908.502924  281114.280702            614534.280702   \n",
       "8575   468908.502924  281114.280702            614534.280702   \n",
       "8576   468908.502924  281114.280702            614534.280702   \n",
       "\n",
       "      couple_with_children  other_households  single_parent_with_children  \n",
       "0            799000.000000     624300.000000                381500.000000  \n",
       "1            707400.000000     713400.000000                367900.000000  \n",
       "2            662000.000000     734000.000000                372800.000000  \n",
       "3            858400.000000     778000.000000                413400.000000  \n",
       "4            819500.000000     714700.000000                400900.000000  \n",
       "...                    ...               ...                          ...  \n",
       "8572         761482.444444     728590.502924                377456.584795  \n",
       "8573         761482.444444     728590.502924                377456.584795  \n",
       "8574         761482.444444     728590.502924                377456.584795  \n",
       "8575         761482.444444     728590.502924                377456.584795  \n",
       "8576         761482.444444     728590.502924                377456.584795  \n",
       "\n",
       "[8577 rows x 6 columns]"
      ]
     },
     "execution_count": 24,
     "metadata": {},
     "output_type": "execute_result"
    }
   ],
   "source": [
    "income_imp_test"
   ]
  },
  {
   "cell_type": "code",
   "execution_count": 25,
   "metadata": {},
   "outputs": [],
   "source": [
    "def powertransformer(df_original, df_impuded): \n",
    "    for col in df_impuded: \n",
    "        temp = PowerTransformer().fit_transform(df_impuded[[col]])\n",
    "        df_original[f'pt_{col}'] = temp\n",
    "    return df_original\n",
    "\n"
   ]
  },
  {
   "cell_type": "code",
   "execution_count": 26,
   "metadata": {},
   "outputs": [
    {
     "name": "stderr",
     "output_type": "stream",
     "text": [
      "/Users/simenvoldqvam/opt/anaconda3/lib/python3.8/site-packages/sklearn/preprocessing/_data.py:2995: RuntimeWarning: divide by zero encountered in log\n",
      "  loglike = -n_samples / 2 * np.log(x_trans.var())\n"
     ]
    }
   ],
   "source": [
    "pt = powertransformer(income_df, income_imp)\n",
    "pt_test = powertransformer(income_df_test, income_imp_test)"
   ]
  },
  {
   "cell_type": "code",
   "execution_count": 27,
   "metadata": {},
   "outputs": [],
   "source": [
    "new_stores_train = pt.drop(include_list, axis = 1).set_index(\"store_id\")\n",
    "new_stores_test = pt_test.drop(include_list, axis = 1).set_index(\"store_id\")"
   ]
  },
  {
   "cell_type": "code",
   "execution_count": 28,
   "metadata": {},
   "outputs": [],
   "source": [
    "new_stores_train.to_csv(\"income_trans_train.csv\")\n",
    "new_stores_test.to_csv(\"income_trans_test.csv\")"
   ]
  },
  {
   "cell_type": "markdown",
   "metadata": {},
   "source": []
  }
 ],
 "metadata": {
  "kernelspec": {
   "display_name": "Python 3.8.3 ('base')",
   "language": "python",
   "name": "python3"
  },
  "language_info": {
   "codemirror_mode": {
    "name": "ipython",
    "version": 3
   },
   "file_extension": ".py",
   "mimetype": "text/x-python",
   "name": "python",
   "nbconvert_exporter": "python",
   "pygments_lexer": "ipython3",
   "version": "3.8.3"
  },
  "orig_nbformat": 4,
  "vscode": {
   "interpreter": {
    "hash": "59a275e10fb65f8ffdbf47c66e80409aee5f702bfde36eb90a9619fd519b731e"
   }
  }
 },
 "nbformat": 4,
 "nbformat_minor": 2
}
