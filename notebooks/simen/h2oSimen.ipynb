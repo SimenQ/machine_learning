{
 "cells": [
  {
   "cell_type": "code",
   "execution_count": 1,
   "metadata": {},
   "outputs": [],
   "source": [
    "import pandas as pd \n",
    "import numpy as np\n",
    "import matplotlib.pyplot as plt \n",
    "import seaborn as sns\n",
    "import sklearn\n",
    "from sklearn.impute import SimpleImputer\n",
    "from sklearn.preprocessing import StandardScaler\n",
    "import h2o\n",
    "from h2o.automl import H2OAutoML"
   ]
  },
  {
   "cell_type": "code",
   "execution_count": 2,
   "metadata": {},
   "outputs": [
    {
     "name": "stdout",
     "output_type": "stream",
     "text": [
      "Checking whether there is an H2O instance running at http://localhost:54321 ..... connected.\n"
     ]
    },
    {
     "data": {
      "text/html": [
       "\n",
       "<style>\n",
       "\n",
       "#h2o-table-1.h2o-container {\n",
       "  overflow-x: auto;\n",
       "}\n",
       "#h2o-table-1 .h2o-table {\n",
       "  /* width: 100%; */\n",
       "  margin-top: 1em;\n",
       "  margin-bottom: 1em;\n",
       "}\n",
       "#h2o-table-1 .h2o-table caption {\n",
       "  white-space: nowrap;\n",
       "  caption-side: top;\n",
       "  text-align: left;\n",
       "  /* margin-left: 1em; */\n",
       "  margin: 0;\n",
       "  font-size: larger;\n",
       "}\n",
       "#h2o-table-1 .h2o-table thead {\n",
       "  white-space: nowrap; \n",
       "  position: sticky;\n",
       "  top: 0;\n",
       "  box-shadow: 0 -1px inset;\n",
       "}\n",
       "#h2o-table-1 .h2o-table tbody {\n",
       "  overflow: auto;\n",
       "}\n",
       "#h2o-table-1 .h2o-table th,\n",
       "#h2o-table-1 .h2o-table td {\n",
       "  text-align: right;\n",
       "  /* border: 1px solid; */\n",
       "}\n",
       "#h2o-table-1 .h2o-table tr:nth-child(even) {\n",
       "  /* background: #F5F5F5 */\n",
       "}\n",
       "\n",
       "</style>      \n",
       "<div id=\"h2o-table-1\" class=\"h2o-container\">\n",
       "  <table class=\"h2o-table\">\n",
       "    <caption></caption>\n",
       "    <thead></thead>\n",
       "    <tbody><tr><td>H2O_cluster_uptime:</td>\n",
       "<td>6 hours 58 mins</td></tr>\n",
       "<tr><td>H2O_cluster_timezone:</td>\n",
       "<td>Europe/Oslo</td></tr>\n",
       "<tr><td>H2O_data_parsing_timezone:</td>\n",
       "<td>UTC</td></tr>\n",
       "<tr><td>H2O_cluster_version:</td>\n",
       "<td>3.38.0.2</td></tr>\n",
       "<tr><td>H2O_cluster_version_age:</td>\n",
       "<td>12 days </td></tr>\n",
       "<tr><td>H2O_cluster_name:</td>\n",
       "<td>H2O_from_python_simenvoldqvam_9hznas</td></tr>\n",
       "<tr><td>H2O_cluster_total_nodes:</td>\n",
       "<td>1</td></tr>\n",
       "<tr><td>H2O_cluster_free_memory:</td>\n",
       "<td>540 Mb</td></tr>\n",
       "<tr><td>H2O_cluster_total_cores:</td>\n",
       "<td>8</td></tr>\n",
       "<tr><td>H2O_cluster_allowed_cores:</td>\n",
       "<td>8</td></tr>\n",
       "<tr><td>H2O_cluster_status:</td>\n",
       "<td>locked, healthy</td></tr>\n",
       "<tr><td>H2O_connection_url:</td>\n",
       "<td>http://localhost:54321</td></tr>\n",
       "<tr><td>H2O_connection_proxy:</td>\n",
       "<td>{\"http\": null, \"https\": null}</td></tr>\n",
       "<tr><td>H2O_internal_security:</td>\n",
       "<td>False</td></tr>\n",
       "<tr><td>Python_version:</td>\n",
       "<td>3.8.3 final</td></tr></tbody>\n",
       "  </table>\n",
       "</div>\n"
      ],
      "text/plain": [
       "--------------------------  ------------------------------------\n",
       "H2O_cluster_uptime:         6 hours 58 mins\n",
       "H2O_cluster_timezone:       Europe/Oslo\n",
       "H2O_data_parsing_timezone:  UTC\n",
       "H2O_cluster_version:        3.38.0.2\n",
       "H2O_cluster_version_age:    12 days\n",
       "H2O_cluster_name:           H2O_from_python_simenvoldqvam_9hznas\n",
       "H2O_cluster_total_nodes:    1\n",
       "H2O_cluster_free_memory:    540 Mb\n",
       "H2O_cluster_total_cores:    8\n",
       "H2O_cluster_allowed_cores:  8\n",
       "H2O_cluster_status:         locked, healthy\n",
       "H2O_connection_url:         http://localhost:54321\n",
       "H2O_connection_proxy:       {\"http\": null, \"https\": null}\n",
       "H2O_internal_security:      False\n",
       "Python_version:             3.8.3 final\n",
       "--------------------------  ------------------------------------"
      ]
     },
     "metadata": {},
     "output_type": "display_data"
    }
   ],
   "source": [
    "h2o.init(ip ='localhost', port = 54321)"
   ]
  },
  {
   "cell_type": "code",
   "execution_count": 3,
   "metadata": {},
   "outputs": [
    {
     "data": {
      "text/html": [
       "<div>\n",
       "<style scoped>\n",
       "    .dataframe tbody tr th:only-of-type {\n",
       "        vertical-align: middle;\n",
       "    }\n",
       "\n",
       "    .dataframe tbody tr th {\n",
       "        vertical-align: top;\n",
       "    }\n",
       "\n",
       "    .dataframe thead th {\n",
       "        text-align: right;\n",
       "    }\n",
       "</style>\n",
       "<table border=\"1\" class=\"dataframe\">\n",
       "  <thead>\n",
       "    <tr style=\"text-align: right;\">\n",
       "      <th></th>\n",
       "      <th>grunnkrets_id</th>\n",
       "      <th>year</th>\n",
       "      <th>grunnkrets_name</th>\n",
       "      <th>district_name</th>\n",
       "      <th>municipality_name</th>\n",
       "      <th>geometry</th>\n",
       "      <th>area_km2</th>\n",
       "    </tr>\n",
       "  </thead>\n",
       "  <tbody>\n",
       "    <tr>\n",
       "      <th>260</th>\n",
       "      <td>10010507</td>\n",
       "      <td>2016</td>\n",
       "      <td>Fidjane-Vestheiene</td>\n",
       "      <td>Hellemyr-Fjellro</td>\n",
       "      <td>Kristiansand</td>\n",
       "      <td>MULTIPOLYGON(((7.93581993399791 58.14261844480...</td>\n",
       "      <td>0.158484</td>\n",
       "    </tr>\n",
       "    <tr>\n",
       "      <th>261</th>\n",
       "      <td>10011105</td>\n",
       "      <td>2016</td>\n",
       "      <td>Gimlekollen vest</td>\n",
       "      <td>Kongsgård øvre-Gimlekollen</td>\n",
       "      <td>Kristiansand</td>\n",
       "      <td>MULTIPOLYGON(((8.02862690742917 58.17389896051...</td>\n",
       "      <td>0.474242</td>\n",
       "    </tr>\n",
       "    <tr>\n",
       "      <th>262</th>\n",
       "      <td>10011604</td>\n",
       "      <td>2016</td>\n",
       "      <td>Ryen</td>\n",
       "      <td>Tveit</td>\n",
       "      <td>Kristiansand</td>\n",
       "      <td>POLYGON((8.10303607445248 58.2119345268037, 8....</td>\n",
       "      <td>1.464307</td>\n",
       "    </tr>\n",
       "    <tr>\n",
       "      <th>263</th>\n",
       "      <td>10011703</td>\n",
       "      <td>2016</td>\n",
       "      <td>Hånes vest</td>\n",
       "      <td>Hånes-Timenes</td>\n",
       "      <td>Kristiansand</td>\n",
       "      <td>POLYGON((8.08896547903471 58.1756869597767, 8....</td>\n",
       "      <td>0.484497</td>\n",
       "    </tr>\n",
       "    <tr>\n",
       "      <th>264</th>\n",
       "      <td>10011707</td>\n",
       "      <td>2016</td>\n",
       "      <td>Hånes Nord-Bjørndalen</td>\n",
       "      <td>Hånes-Timenes</td>\n",
       "      <td>Kristiansand</td>\n",
       "      <td>POLYGON((8.09775611761549 58.1741474661755, 8....</td>\n",
       "      <td>0.388282</td>\n",
       "    </tr>\n",
       "    <tr>\n",
       "      <th>...</th>\n",
       "      <td>...</td>\n",
       "      <td>...</td>\n",
       "      <td>...</td>\n",
       "      <td>...</td>\n",
       "      <td>...</td>\n",
       "      <td>...</td>\n",
       "      <td>...</td>\n",
       "    </tr>\n",
       "    <tr>\n",
       "      <th>26531</th>\n",
       "      <td>9010116</td>\n",
       "      <td>2016</td>\n",
       "      <td>Risør kirke</td>\n",
       "      <td>Risør</td>\n",
       "      <td>Risør</td>\n",
       "      <td>POLYGON((9.2324359737299 58.7216231451804, 9.2...</td>\n",
       "      <td>0.040685</td>\n",
       "    </tr>\n",
       "    <tr>\n",
       "      <th>26532</th>\n",
       "      <td>9040107</td>\n",
       "      <td>2016</td>\n",
       "      <td>Ruaker</td>\n",
       "      <td>Vik/Fevik</td>\n",
       "      <td>Grimstad</td>\n",
       "      <td>MULTIPOLYGON(((8.70630216364686 58.38547197606...</td>\n",
       "      <td>0.377123</td>\n",
       "    </tr>\n",
       "    <tr>\n",
       "      <th>26533</th>\n",
       "      <td>9064304</td>\n",
       "      <td>2016</td>\n",
       "      <td>Løddesøl</td>\n",
       "      <td>Øyestad øvre</td>\n",
       "      <td>Arendal</td>\n",
       "      <td>MULTIPOLYGON(((8.60742491119398 58.43252835282...</td>\n",
       "      <td>3.013260</td>\n",
       "    </tr>\n",
       "    <tr>\n",
       "      <th>26534</th>\n",
       "      <td>9065309</td>\n",
       "      <td>2016</td>\n",
       "      <td>Nyli nord</td>\n",
       "      <td>Arendal nord</td>\n",
       "      <td>Arendal</td>\n",
       "      <td>POLYGON((8.77589910872786 58.475152327042, 8.7...</td>\n",
       "      <td>0.204316</td>\n",
       "    </tr>\n",
       "    <tr>\n",
       "      <th>26535</th>\n",
       "      <td>9370101</td>\n",
       "      <td>2016</td>\n",
       "      <td>Syrtveit</td>\n",
       "      <td>Evje</td>\n",
       "      <td>Evje og Hornnes</td>\n",
       "      <td>MULTIPOLYGON(((7.81748161304898 58.63226776291...</td>\n",
       "      <td>0.429908</td>\n",
       "    </tr>\n",
       "  </tbody>\n",
       "</table>\n",
       "<p>13266 rows × 7 columns</p>\n",
       "</div>"
      ],
      "text/plain": [
       "       grunnkrets_id  year        grunnkrets_name               district_name  \\\n",
       "260         10010507  2016     Fidjane-Vestheiene            Hellemyr-Fjellro   \n",
       "261         10011105  2016       Gimlekollen vest  Kongsgård øvre-Gimlekollen   \n",
       "262         10011604  2016                   Ryen                       Tveit   \n",
       "263         10011703  2016             Hånes vest               Hånes-Timenes   \n",
       "264         10011707  2016  Hånes Nord-Bjørndalen               Hånes-Timenes   \n",
       "...              ...   ...                    ...                         ...   \n",
       "26531        9010116  2016            Risør kirke                       Risør   \n",
       "26532        9040107  2016                 Ruaker                   Vik/Fevik   \n",
       "26533        9064304  2016               Løddesøl                Øyestad øvre   \n",
       "26534        9065309  2016              Nyli nord                Arendal nord   \n",
       "26535        9370101  2016               Syrtveit                        Evje   \n",
       "\n",
       "      municipality_name                                           geometry  \\\n",
       "260        Kristiansand  MULTIPOLYGON(((7.93581993399791 58.14261844480...   \n",
       "261        Kristiansand  MULTIPOLYGON(((8.02862690742917 58.17389896051...   \n",
       "262        Kristiansand  POLYGON((8.10303607445248 58.2119345268037, 8....   \n",
       "263        Kristiansand  POLYGON((8.08896547903471 58.1756869597767, 8....   \n",
       "264        Kristiansand  POLYGON((8.09775611761549 58.1741474661755, 8....   \n",
       "...                 ...                                                ...   \n",
       "26531             Risør  POLYGON((9.2324359737299 58.7216231451804, 9.2...   \n",
       "26532          Grimstad  MULTIPOLYGON(((8.70630216364686 58.38547197606...   \n",
       "26533           Arendal  MULTIPOLYGON(((8.60742491119398 58.43252835282...   \n",
       "26534           Arendal  POLYGON((8.77589910872786 58.475152327042, 8.7...   \n",
       "26535   Evje og Hornnes  MULTIPOLYGON(((7.81748161304898 58.63226776291...   \n",
       "\n",
       "       area_km2  \n",
       "260    0.158484  \n",
       "261    0.474242  \n",
       "262    1.464307  \n",
       "263    0.484497  \n",
       "264    0.388282  \n",
       "...         ...  \n",
       "26531  0.040685  \n",
       "26532  0.377123  \n",
       "26533  3.013260  \n",
       "26534  0.204316  \n",
       "26535  0.429908  \n",
       "\n",
       "[13266 rows x 7 columns]"
      ]
     },
     "execution_count": 3,
     "metadata": {},
     "output_type": "execute_result"
    }
   ],
   "source": [
    "#importing stores_train\n",
    "stores_train = pd.read_csv('/Users/simenvoldqvam/Desktop/Skole/machine_learning/data/raw/stores_train.csv')\n",
    "stores_train = stores_train[stores_train['year']==2016]\n",
    "\n",
    "\n",
    "\n",
    "#importing stores_test\n",
    "stores_test = pd.read_csv('/Users/simenvoldqvam/Desktop/Skole/machine_learning/data/raw/stores_test.csv')\n",
    "stores_test = stores_test[stores_test['year']==2016]\n",
    "stores_test_new = stores_test.drop(['year'],axis=1)\n",
    "\n",
    "#importing stores_extra\n",
    "stores_extra = pd.read_csv('/Users/simenvoldqvam/Desktop/Skole/machine_learning/data/raw/stores_extra.csv')\n",
    "stores_extra = stores_extra[stores_extra['year']==2016]\n",
    "\n",
    "\n",
    "#importing grunnkrets_age_distribution\n",
    "grunnkrets_age_distribution = pd.read_csv(\"/Users/simenvoldqvam/Desktop/Skole/machine_learning/data/raw/grunnkrets_age_distribution.csv\")\n",
    "grunnkrets_age_distribution = grunnkrets_age_distribution[grunnkrets_age_distribution['year']==2016]\n",
    "grunnkrets_age_distribution_new = grunnkrets_age_distribution.drop(['year'],axis=1)\n",
    "\n",
    "#importing grunnkrets_norway_stripped\n",
    "grunnkrets_norway_stripped = pd.read_csv(\"/Users/simenvoldqvam/Desktop/Skole/machine_learning/data/raw/grunnkrets_norway_stripped.csv\")\n",
    "grunnkrets_norway_stripped = grunnkrets_norway_stripped[grunnkrets_norway_stripped['year']==2016]\n",
    "grunnkrets_norway_stripped_new = grunnkrets_norway_stripped.drop(['year'],axis=1)\n",
    "\n",
    "#importing grunnkrets_households_num_persons\n",
    "grunnkrets_households_num_persons = pd.read_csv(\"/Users/simenvoldqvam/Desktop/Skole/machine_learning/data/raw/grunnkrets_households_num_persons.csv\")\n",
    "grunnkrets_households_num_persons = grunnkrets_households_num_persons[grunnkrets_households_num_persons['year']==2016]\n",
    "grunnkrets_households_num_persons_new = grunnkrets_households_num_persons.drop(['year'],axis=1)\n",
    "\n",
    "#importing grunnkrets_income_households\n",
    "grunnkrets_income_households = pd.read_csv(\"/Users/simenvoldqvam/Desktop/Skole/machine_learning/data/raw/grunnkrets_income_households.csv\")\n",
    "grunnkrets_income_households = grunnkrets_income_households[grunnkrets_income_households['year']==2016]\n",
    "grunnkrets_income_households_new = grunnkrets_income_households.drop(['year'],axis=1)\n",
    "\n",
    "#importing plaace_hierarchy\n",
    "plaace_hierarchy = pd.read_csv(\"/Users/simenvoldqvam/Desktop/Skole/machine_learning/data/raw/plaace_hierarchy.csv\")\n",
    "\n",
    "\n",
    "grunnkrets_norway_stripped"
   ]
  },
  {
   "cell_type": "code",
   "execution_count": 4,
   "metadata": {},
   "outputs": [
    {
     "ename": "NameError",
     "evalue": "name 'stores_train_new' is not defined",
     "output_type": "error",
     "traceback": [
      "\u001b[0;31m---------------------------------------------------------------------------\u001b[0m",
      "\u001b[0;31mNameError\u001b[0m                                 Traceback (most recent call last)",
      "\u001b[0;32m<ipython-input-4-6d5e0b5d7d6a>\u001b[0m in \u001b[0;36m<module>\u001b[0;34m\u001b[0m\n\u001b[0;32m----> 1\u001b[0;31m df = (stores_train_new.merge(grunnkrets_age_distribution, how = 'left', on = 'grunnkrets_id')\n\u001b[0m\u001b[1;32m      2\u001b[0m     \u001b[0;34m.\u001b[0m\u001b[0mmerge\u001b[0m\u001b[0;34m(\u001b[0m\u001b[0mgrunnkrets_norway_stripped\u001b[0m\u001b[0;34m,\u001b[0m \u001b[0mhow\u001b[0m \u001b[0;34m=\u001b[0m \u001b[0;34m'left'\u001b[0m\u001b[0;34m,\u001b[0m \u001b[0mon\u001b[0m \u001b[0;34m=\u001b[0m \u001b[0;34m'grunnkrets_id'\u001b[0m\u001b[0;34m)\u001b[0m\u001b[0;34m\u001b[0m\u001b[0;34m\u001b[0m\u001b[0m\n\u001b[1;32m      3\u001b[0m     \u001b[0;34m.\u001b[0m\u001b[0mmerge\u001b[0m\u001b[0;34m(\u001b[0m\u001b[0mgrunnkrets_households_num_persons\u001b[0m\u001b[0;34m,\u001b[0m \u001b[0mhow\u001b[0m \u001b[0;34m=\u001b[0m \u001b[0;34m'left'\u001b[0m\u001b[0;34m,\u001b[0m \u001b[0mon\u001b[0m \u001b[0;34m=\u001b[0m \u001b[0;34m'grunnkrets_id'\u001b[0m\u001b[0;34m)\u001b[0m\u001b[0;34m\u001b[0m\u001b[0;34m\u001b[0m\u001b[0m\n\u001b[1;32m      4\u001b[0m     \u001b[0;34m.\u001b[0m\u001b[0mmerge\u001b[0m\u001b[0;34m(\u001b[0m\u001b[0mgrunnkrets_income_households\u001b[0m\u001b[0;34m,\u001b[0m \u001b[0mhow\u001b[0m \u001b[0;34m=\u001b[0m \u001b[0;34m'left'\u001b[0m\u001b[0;34m,\u001b[0m \u001b[0mon\u001b[0m \u001b[0;34m=\u001b[0m \u001b[0;34m'grunnkrets_id'\u001b[0m\u001b[0;34m)\u001b[0m\u001b[0;34m\u001b[0m\u001b[0;34m\u001b[0m\u001b[0m\n\u001b[1;32m      5\u001b[0m     \u001b[0;34m.\u001b[0m\u001b[0mmerge\u001b[0m\u001b[0;34m(\u001b[0m\u001b[0mplaace_hierarchy\u001b[0m\u001b[0;34m,\u001b[0m\u001b[0mhow\u001b[0m\u001b[0;34m=\u001b[0m\u001b[0;34m'left'\u001b[0m\u001b[0;34m,\u001b[0m\u001b[0mon\u001b[0m\u001b[0;34m=\u001b[0m\u001b[0;34m'plaace_hierarchy_id'\u001b[0m\u001b[0;34m)\u001b[0m\u001b[0;34m\u001b[0m\u001b[0;34m\u001b[0m\u001b[0m\n",
      "\u001b[0;31mNameError\u001b[0m: name 'stores_train_new' is not defined"
     ]
    }
   ],
   "source": [
    "df = (stores_train_new.merge(grunnkrets_age_distribution, how = 'left', on = 'grunnkrets_id')\n",
    "    .merge(grunnkrets_norway_stripped, how = 'left', on = 'grunnkrets_id')\n",
    "    .merge(grunnkrets_households_num_persons, how = 'left', on = 'grunnkrets_id')\n",
    "    .merge(grunnkrets_income_households, how = 'left', on = 'grunnkrets_id')\n",
    "    .merge(plaace_hierarchy,how='left',on='plaace_hierarchy_id')\n",
    "    )\n"
   ]
  },
  {
   "cell_type": "code",
   "execution_count": null,
   "metadata": {},
   "outputs": [],
   "source": [
    "pd.set_option('max_columns', None)\n",
    "df_new = df.drop(['year_x','year_y','geometry'],axis=1)"
   ]
  },
  {
   "cell_type": "code",
   "execution_count": 5,
   "metadata": {},
   "outputs": [],
   "source": [
    "stores_train_hf = h2o.H2OFrame(stores_train)\n",
    "stores_test_hf = h2o.H2OFrame(stores_test)\n",
    "#stores_extra_hf = h2o.H2OFrame(stores_extra)"
   ]
  },
  {
   "cell_type": "code",
   "execution_count": null,
   "metadata": {},
   "outputs": [
    {
     "data": {
      "text/html": [
       "<table class='dataframe'>\n",
       "<thead>\n",
       "<tr><th>store_id                  </th><th style=\"text-align: right;\">  year</th><th>store_name                         </th><th>plaace_hierarchy_id  </th><th>sales_channel_name   </th><th style=\"text-align: right;\">  grunnkrets_id</th><th>address               </th><th style=\"text-align: right;\">    lat</th><th style=\"text-align: right;\">     lon</th><th>chain_name      </th><th>mall_name         </th></tr>\n",
       "</thead>\n",
       "<tbody>\n",
       "<tr><td>914206820-914239427-717245</td><td style=\"text-align: right;\">  2016</td><td>VÅLERENGA HALAL BURGER AS          </td><td>1.1.1.0              </td><td>Hamburger restaurants</td><td style=\"text-align: right;\">    3.0127e+06 </td><td>STRØMSVEIEN 25 A      </td><td style=\"text-align: right;\">59.9087</td><td style=\"text-align: right;\">10.787  </td><td>nan             </td><td>nan               </td></tr>\n",
       "<tr><td>916789157-916823770-824309</td><td style=\"text-align: right;\">  2016</td><td>BURGER KING MYREN                  </td><td>1.1.1.0              </td><td>Hamburger restaurants</td><td style=\"text-align: right;\">    8.0614e+06 </td><td>MYREN 1               </td><td style=\"text-align: right;\">59.2015</td><td style=\"text-align: right;\"> 9.58824</td><td>BURGER KING     </td><td>nan               </td></tr>\n",
       "<tr><td>913341082-977479363-2948  </td><td style=\"text-align: right;\">  2016</td><td>BURGER KING STOVNER                </td><td>1.1.1.0              </td><td>Hamburger restaurants</td><td style=\"text-align: right;\">    3.01392e+06</td><td>STOVNER SENTER 3      </td><td style=\"text-align: right;\">59.9621</td><td style=\"text-align: right;\">10.9245 </td><td>BURGER KING     </td><td>Stovner Senter    </td></tr>\n",
       "<tr><td>889682582-889697172-28720 </td><td style=\"text-align: right;\">  2016</td><td>BURGER KING TUNGASLETTA            </td><td>1.1.1.0              </td><td>Hamburger restaurants</td><td style=\"text-align: right;\">    1.60121e+07</td><td>TUNGASLETTA 16        </td><td style=\"text-align: right;\">63.4208</td><td style=\"text-align: right;\">10.4611 </td><td>BURGER KING     </td><td>nan               </td></tr>\n",
       "<tr><td>997991699-998006945-417222</td><td style=\"text-align: right;\">  2016</td><td>VULKAN BURGERBAR                   </td><td>1.1.1.0              </td><td>Hamburger restaurants</td><td style=\"text-align: right;\">    3.01430e+06</td><td>AUD SCHØNEMANNS VEI 15</td><td style=\"text-align: right;\">59.9211</td><td style=\"text-align: right;\">10.7851 </td><td>VULKAN BURGERBAR</td><td>nan               </td></tr>\n",
       "<tr><td>914931487-815162862-756427</td><td style=\"text-align: right;\">  2016</td><td>BURGER KING OSLO S                 </td><td>1.1.1.0              </td><td>Hamburger restaurants</td><td style=\"text-align: right;\">    3.01310e+06</td><td>EKEBERGVEIEN 235      </td><td style=\"text-align: right;\">59.8611</td><td style=\"text-align: right;\">10.7999 </td><td>BURGER KING     </td><td>nan               </td></tr>\n",
       "<tr><td>967062979-972338656-6209  </td><td style=\"text-align: right;\">  2016</td><td>MCDONALD&#x27;S TRONDHEIM TORG          </td><td>1.1.1.0              </td><td>Hamburger restaurants</td><td style=\"text-align: right;\">    1.60112e+07</td><td>KONGENS GATE 9        </td><td style=\"text-align: right;\">63.4304</td><td style=\"text-align: right;\">10.3937 </td><td>MCDONALDS       </td><td>Trondheim Torg    </td></tr>\n",
       "<tr><td>914631734-914748119-740036</td><td style=\"text-align: right;\">  2016</td><td>KVERNERIET &amp; FRIENDS               </td><td>1.1.1.0              </td><td>Hamburger restaurants</td><td style=\"text-align: right;\">    3.01091e+06</td><td>KIRKEVEIEN 64 A       </td><td style=\"text-align: right;\">59.9293</td><td style=\"text-align: right;\">10.7155 </td><td>nan             </td><td>nan               </td></tr>\n",
       "<tr><td>970976361-973961837-23171 </td><td style=\"text-align: right;\">  2016</td><td>MCDONALD&#x27;S STRANDTORGET LILLEHAMMER</td><td>1.1.1.0              </td><td>Hamburger restaurants</td><td style=\"text-align: right;\">    5.01061e+06</td><td>STRANDPROMENADEN 91   </td><td style=\"text-align: right;\">61.1151</td><td style=\"text-align: right;\">10.4482 </td><td>MCDONALDS       </td><td>Strandtorget      </td></tr>\n",
       "<tr><td>979425031-979584385-54031 </td><td style=\"text-align: right;\">  2016</td><td>MCDONALD&#x27;S ÅLESUND STORSENTER      </td><td>1.1.1.0              </td><td>Hamburger restaurants</td><td style=\"text-align: right;\">    1.50403e+07</td><td>STORGATA 6            </td><td style=\"text-align: right;\">62.4723</td><td style=\"text-align: right;\"> 6.15981</td><td>MCDONALDS       </td><td>Ålesund Storsenter</td></tr>\n",
       "</tbody>\n",
       "</table><pre style='font-size: smaller; margin-bottom: 1em;'>[8577 rows x 11 columns]</pre>"
      ],
      "text/plain": [
       "store_id                      year  store_name                           plaace_hierarchy_id    sales_channel_name       grunnkrets_id  address                     lat       lon  chain_name        mall_name\n",
       "--------------------------  ------  -----------------------------------  ---------------------  ---------------------  ---------------  ----------------------  -------  --------  ----------------  ------------------\n",
       "914206820-914239427-717245    2016  VÅLERENGA HALAL BURGER AS            1.1.1.0                Hamburger restaurants      3.0127e+06   STRØMSVEIEN 25 A        59.9087  10.787    nan               nan\n",
       "916789157-916823770-824309    2016  BURGER KING MYREN                    1.1.1.0                Hamburger restaurants      8.0614e+06   MYREN 1                 59.2015   9.58824  BURGER KING       nan\n",
       "913341082-977479363-2948      2016  BURGER KING STOVNER                  1.1.1.0                Hamburger restaurants      3.01392e+06  STOVNER SENTER 3        59.9621  10.9245   BURGER KING       Stovner Senter\n",
       "889682582-889697172-28720     2016  BURGER KING TUNGASLETTA              1.1.1.0                Hamburger restaurants      1.60121e+07  TUNGASLETTA 16          63.4208  10.4611   BURGER KING       nan\n",
       "997991699-998006945-417222    2016  VULKAN BURGERBAR                     1.1.1.0                Hamburger restaurants      3.01430e+06  AUD SCHØNEMANNS VEI 15  59.9211  10.7851   VULKAN BURGERBAR  nan\n",
       "914931487-815162862-756427    2016  BURGER KING OSLO S                   1.1.1.0                Hamburger restaurants      3.01310e+06  EKEBERGVEIEN 235        59.8611  10.7999   BURGER KING       nan\n",
       "967062979-972338656-6209      2016  MCDONALD'S TRONDHEIM TORG            1.1.1.0                Hamburger restaurants      1.60112e+07  KONGENS GATE 9          63.4304  10.3937   MCDONALDS         Trondheim Torg\n",
       "914631734-914748119-740036    2016  KVERNERIET & FRIENDS                 1.1.1.0                Hamburger restaurants      3.01091e+06  KIRKEVEIEN 64 A         59.9293  10.7155   nan               nan\n",
       "970976361-973961837-23171     2016  MCDONALD'S STRANDTORGET LILLEHAMMER  1.1.1.0                Hamburger restaurants      5.01061e+06  STRANDPROMENADEN 91     61.1151  10.4482   MCDONALDS         Strandtorget\n",
       "979425031-979584385-54031     2016  MCDONALD'S ÅLESUND STORSENTER        1.1.1.0                Hamburger restaurants      1.50403e+07  STORGATA 6              62.4723   6.15981  MCDONALDS         Ålesund Storsenter\n",
       "[8577 rows x 11 columns]\n"
      ]
     },
     "execution_count": 42,
     "metadata": {},
     "output_type": "execute_result"
    }
   ],
   "source": [
    "stores_test_hf\n"
   ]
  },
  {
   "cell_type": "code",
   "execution_count": null,
   "metadata": {},
   "outputs": [
    {
     "data": {
      "image/png": "[encoded data removed]",
      "text/plain": [
       "<Figure size 864x216 with 2 Axes>"
      ]
     },
     "metadata": {
      "needs_background": "light"
     },
     "output_type": "display_data"
    }
   ],
   "source": [
    "#simple data EDA\n",
    "fig, (ax1, ax2) = plt.subplots(figsize=(12, 3), ncols=2)\n",
    "stores_train.isna().mean().plot.bar(ax=ax1)\n",
    "ax1.set_title('Fraction of rows with NaN values')\n",
    "stores_train.revenue.plot.hist(bins=100, ax=ax2)\n",
    "ax2.set_title('Distribution of Revenues');"
   ]
  },
  {
   "cell_type": "code",
   "execution_count": null,
   "metadata": {},
   "outputs": [
    {
     "name": "stdout",
     "output_type": "stream",
     "text": [
      "AutoML progress: |\n",
      "00:32:42.5: _train param, Dropping bad and constant columns: [store_id, year, store_name]\n",
      "\n",
      "███\n",
      "00:33:01.364: _train param, Dropping bad and constant columns: [store_id, year, store_name]\n",
      "\n",
      "███████"
     ]
    }
   ],
   "source": [
    "#very simple training model with h2o\n",
    "x = stores_train_hf.columns\n",
    "y = 'revenue'\n",
    "x.remove(y)\n",
    "\n",
    "aml = H2OAutoML(max_models=10, seed=1)\n",
    "aml.train(x=x, y=y, training_frame= stores_train_hf) \n"
   ]
  },
  {
   "cell_type": "code",
   "execution_count": null,
   "metadata": {},
   "outputs": [
    {
     "data": {
      "text/html": [
       "<table class='dataframe'>\n",
       "<thead>\n",
       "<tr><th>model_id                                              </th><th style=\"text-align: right;\">    rmse</th><th style=\"text-align: right;\">     mse</th><th style=\"text-align: right;\">    mae</th><th style=\"text-align: right;\">     rmsle</th><th style=\"text-align: right;\">  mean_residual_deviance</th><th>algo           </th></tr>\n",
       "</thead>\n",
       "<tbody>\n",
       "<tr><td>StackedEnsemble_BestOfFamily_1_AutoML_2_20221109_01247</td><td style=\"text-align: right;\"> 9.93139</td><td style=\"text-align: right;\"> 98.6324</td><td style=\"text-align: right;\">4.82436</td><td style=\"text-align: right;\">  0.805381</td><td style=\"text-align: right;\">                 98.6324</td><td>StackedEnsemble</td></tr>\n",
       "<tr><td>StackedEnsemble_AllModels_1_AutoML_2_20221109_01247   </td><td style=\"text-align: right;\"> 9.94073</td><td style=\"text-align: right;\"> 98.8181</td><td style=\"text-align: right;\">4.81605</td><td style=\"text-align: right;\">  0.802846</td><td style=\"text-align: right;\">                 98.8181</td><td>StackedEnsemble</td></tr>\n",
       "<tr><td>GBM_1_AutoML_2_20221109_01247                         </td><td style=\"text-align: right;\">10.2976 </td><td style=\"text-align: right;\">106.04  </td><td style=\"text-align: right;\">4.9594 </td><td style=\"text-align: right;\">nan       </td><td style=\"text-align: right;\">                106.04  </td><td>GBM            </td></tr>\n",
       "<tr><td>DRF_1_AutoML_2_20221109_01247                         </td><td style=\"text-align: right;\">10.2978 </td><td style=\"text-align: right;\">106.045 </td><td style=\"text-align: right;\">4.86387</td><td style=\"text-align: right;\">  0.800614</td><td style=\"text-align: right;\">                106.045 </td><td>DRF            </td></tr>\n",
       "<tr><td>GBM_3_AutoML_2_20221109_01247                         </td><td style=\"text-align: right;\">10.32   </td><td style=\"text-align: right;\">106.502 </td><td style=\"text-align: right;\">4.92686</td><td style=\"text-align: right;\">nan       </td><td style=\"text-align: right;\">                106.502 </td><td>GBM            </td></tr>\n",
       "<tr><td>GBM_2_AutoML_2_20221109_01247                         </td><td style=\"text-align: right;\">10.3259 </td><td style=\"text-align: right;\">106.624 </td><td style=\"text-align: right;\">4.89573</td><td style=\"text-align: right;\">nan       </td><td style=\"text-align: right;\">                106.624 </td><td>GBM            </td></tr>\n",
       "<tr><td>GBM_5_AutoML_2_20221109_01247                         </td><td style=\"text-align: right;\">10.3859 </td><td style=\"text-align: right;\">107.867 </td><td style=\"text-align: right;\">4.90232</td><td style=\"text-align: right;\">nan       </td><td style=\"text-align: right;\">                107.867 </td><td>GBM            </td></tr>\n",
       "<tr><td>XGBoost_3_AutoML_2_20221109_01247                     </td><td style=\"text-align: right;\">10.4161 </td><td style=\"text-align: right;\">108.496 </td><td style=\"text-align: right;\">5.07741</td><td style=\"text-align: right;\">nan       </td><td style=\"text-align: right;\">                108.496 </td><td>XGBoost        </td></tr>\n",
       "<tr><td>GBM_4_AutoML_2_20221109_01247                         </td><td style=\"text-align: right;\">10.638  </td><td style=\"text-align: right;\">113.167 </td><td style=\"text-align: right;\">4.99763</td><td style=\"text-align: right;\">nan       </td><td style=\"text-align: right;\">                113.167 </td><td>GBM            </td></tr>\n",
       "<tr><td>XGBoost_2_AutoML_2_20221109_01247                     </td><td style=\"text-align: right;\">10.7179 </td><td style=\"text-align: right;\">114.873 </td><td style=\"text-align: right;\">5.28991</td><td style=\"text-align: right;\">nan       </td><td style=\"text-align: right;\">                114.873 </td><td>XGBoost        </td></tr>\n",
       "</tbody>\n",
       "</table><pre style='font-size: smaller; margin-bottom: 1em;'>[12 rows x 7 columns]</pre>"
      ],
      "text/plain": [
       "model_id                                                    rmse       mse      mae       rmsle    mean_residual_deviance  algo\n",
       "------------------------------------------------------  --------  --------  -------  ----------  ------------------------  ---------------\n",
       "StackedEnsemble_BestOfFamily_1_AutoML_2_20221109_01247   9.93139   98.6324  4.82436    0.805381                   98.6324  StackedEnsemble\n",
       "StackedEnsemble_AllModels_1_AutoML_2_20221109_01247      9.94073   98.8181  4.81605    0.802846                   98.8181  StackedEnsemble\n",
       "GBM_1_AutoML_2_20221109_01247                           10.2976   106.04    4.9594   nan                         106.04    GBM\n",
       "DRF_1_AutoML_2_20221109_01247                           10.2978   106.045   4.86387    0.800614                  106.045   DRF\n",
       "GBM_3_AutoML_2_20221109_01247                           10.32     106.502   4.92686  nan                         106.502   GBM\n",
       "GBM_2_AutoML_2_20221109_01247                           10.3259   106.624   4.89573  nan                         106.624   GBM\n",
       "GBM_5_AutoML_2_20221109_01247                           10.3859   107.867   4.90232  nan                         107.867   GBM\n",
       "XGBoost_3_AutoML_2_20221109_01247                       10.4161   108.496   5.07741  nan                         108.496   XGBoost\n",
       "GBM_4_AutoML_2_20221109_01247                           10.638    113.167   4.99763  nan                         113.167   GBM\n",
       "XGBoost_2_AutoML_2_20221109_01247                       10.7179   114.873   5.28991  nan                         114.873   XGBoost\n",
       "[12 rows x 7 columns]\n"
      ]
     },
     "execution_count": 10,
     "metadata": {},
     "output_type": "execute_result"
    }
   ],
   "source": [
    "\n",
    "lb = h2o.automl.get_leaderboard(aml, extra_columns = \"ALL\")\n",
    "best_model = aml.get_best_model()\n",
    "\n",
    "lb\n"
   ]
  },
  {
   "cell_type": "code",
   "execution_count": null,
   "metadata": {},
   "outputs": [],
   "source": [
    "aml.get_best"
   ]
  },
  {
   "cell_type": "code",
   "execution_count": null,
   "metadata": {},
   "outputs": [
    {
     "name": "stdout",
     "output_type": "stream",
     "text": [
      "                variable  relative_importance  scaled_importance  percentage\n",
      "0             chain_name         8.526417e+06           1.000000    0.685670\n",
      "1      municipality_name         2.243723e+06           0.263150    0.180434\n",
      "2    plaace_hierarchy_id         4.590948e+05           0.053844    0.036919\n",
      "3              mall_name         3.578620e+05           0.041971    0.028778\n",
      "4                    lv4         1.772232e+05           0.020785    0.014252\n",
      "..                   ...                  ...                ...         ...\n",
      "121               age_85         0.000000e+00           0.000000    0.000000\n",
      "122                  lv1         0.000000e+00           0.000000    0.000000\n",
      "123             lv1_desc         0.000000e+00           0.000000    0.000000\n",
      "124                  lv2         0.000000e+00           0.000000    0.000000\n",
      "125                  lv3         0.000000e+00           0.000000    0.000000\n",
      "\n",
      "[126 rows x 4 columns]\n"
     ]
    }
   ],
   "source": [
    "m = h2o.get_model(lb[2,\"model_id\"])\n",
    "print(m.varimp(use_pandas=True))\n"
   ]
  },
  {
   "cell_type": "code",
   "execution_count": null,
   "metadata": {},
   "outputs": [],
   "source": [
    "prediction = aml.leader.predict(stores_test_hf)\n",
    "df = stores_test_hf.cbind(prediction)\n",
    "df = df.as_data_frame(use_pandas=True)\n",
    "result = df.loc[:,(\"store_id\", 'predict')]\n",
    "submission = result.rename(columns = {\"store_id\": \"id\", \"predict\": \"predicted\"})\n",
    "submission.to_csv(\"h2o_with_stores_train_only.csv\", index = False)\n",
    "\n",
    "submission"
   ]
  }
 ],
 "metadata": {
  "kernelspec": {
   "display_name": "Python 3.8.3 ('base')",
   "language": "python",
   "name": "python3"
  },
  "language_info": {
   "codemirror_mode": {
    "name": "ipython",
    "version": 3
   },
   "file_extension": ".py",
   "mimetype": "text/x-python",
   "name": "python",
   "nbconvert_exporter": "python",
   "pygments_lexer": "ipython3",
   "version": "3.8.3"
  },
  "orig_nbformat": 4,
  "vscode": {
   "interpreter": {
    "hash": "59a275e10fb65f8ffdbf47c66e80409aee5f702bfde36eb90a9619fd519b731e"
   }
  }
 },
 "nbformat": 4,
 "nbformat_minor": 2
}
