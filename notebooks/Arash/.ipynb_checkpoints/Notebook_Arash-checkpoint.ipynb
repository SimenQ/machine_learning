{
 "cells": [
  {
   "cell_type": "markdown",
   "id": "4af114d8-09cd-4c3c-b58d-926cf3b9363e",
   "metadata": {},
   "source": [
    "# EDA of the dataset\n"
   ]
  },
  {
   "cell_type": "markdown",
   "id": "ca37614b-0a73-4a06-98fc-ac2ed7d0535d",
   "metadata": {},
   "source": [
    "Here I will do some EDA of the dataset given by Plaace and to find some intresting findings. \n",
    "\n",
    "Tasks:\n",
    "\n",
    "Actions\n",
    "1. Sette seg inn i datasett.\n",
    " - Flagge features som må cleanes (i.e. missing value, other data quality issues)\n",
    "2. Eksplorativ analyse av data.\n",
    "  - Enkle correlation plots for å identifisere interessante features.\n",
    " 3. Ideer for feature engineering.\n",
    " - e.g. distance fra busstopp til butikk, cluster av nærliggende butikker, population density, etc.\n",
    "\n",
    "Neste møte\n",
    "1. Data Cleaning:\n",
    " - Impude NaN verdier.\n",
    " - Fjerne unødvendige kolonner.\n",
    " - Denormalisere datasett (i.e. slå sammen datasett.)\n",
    "2. Feature Engineering:\n",
    " - Bli enige rundt interessante features i første omgang.\n",
    "  - Fordele feature engineering."
   ]
  },
  {
   "cell_type": "code",
   "execution_count": 16,
   "id": "1e983146",
   "metadata": {},
   "outputs": [],
   "source": [
    "import numpy as np \n",
    "import pandas as pd\n",
    "import matplotlib.pyplot as plt\n",
    "import seaborn as sns\n",
    "from sklearn.preprocessing import OneHotEncoder, LabelEncoder, StandardScaler\n"
   ]
  },
  {
   "cell_type": "code",
   "execution_count": 38,
   "id": "234f50d2",
   "metadata": {},
   "outputs": [],
   "source": [
    "#Reading the datasets \n",
    "busstops = pd.read_csv('C:/Users/aminp/OneDrive/Dokumenter/NTNU/4år/Machinelearning/machine_learning/data/raw/busstops_norway.csv')\n",
    "grunnkrets_age = pd.read_csv('C:/Users/aminp/OneDrive/Dokumenter/NTNU/4år/Machinelearning/machine_learning/data/raw/grunnkrets_age_distribution.csv')\n",
    "grunnkrets_household = pd.read_csv('C:/Users/aminp/OneDrive/Dokumenter/NTNU/4år/Machinelearning/machine_learning/data/raw/grunnkrets_households_num_persons.csv')\n",
    "grunnkrets_income = pd.read_csv('C:/Users/aminp/OneDrive/Dokumenter/NTNU/4år/Machinelearning/machine_learning/data/raw/grunnkrets_income_households.csv')\n",
    "grunnkrets_norway = pd.read_csv('C:/Users/aminp/OneDrive/Dokumenter/NTNU/4år/Machinelearning/machine_learning/data/raw/grunnkrets_norway_stripped.csv')\n",
    "placce_hierarchy = pd.read_csv('C:/Users/aminp/OneDrive/Dokumenter/NTNU/4år/Machinelearning/machine_learning/data/raw/plaace_hierarchy.csv')\n",
    "sample_submission = pd.read_csv('C:/Users/aminp/OneDrive/Dokumenter/NTNU/4år/Machinelearning/machine_learning/data/raw/sample_submission.csv')\n",
    "stores_extra = pd.read_csv('C:/Users/aminp/OneDrive/Dokumenter/NTNU/4år/Machinelearning/machine_learning/data/raw/stores_extra.csv')\n",
    "stores_test = pd.read_csv('C:/Users/aminp/OneDrive/Dokumenter/NTNU/4år/Machinelearning/machine_learning/data/raw/stores_test.csv')\n",
    "stores_train = pd.read_csv('C:/Users/aminp/OneDrive/Dokumenter/NTNU/4år/Machinelearning/machine_learning/data/raw/stores_train.csv')"
   ]
  }
 ],
 "metadata": {
  "kernelspec": {
   "display_name": "Python 3.9.7 64-bit",
   "language": "python",
   "name": "python3"
  },
  "language_info": {
   "codemirror_mode": {
    "name": "ipython",
    "version": 3
   },
   "file_extension": ".py",
   "mimetype": "text/x-python",
   "name": "python",
   "nbconvert_exporter": "python",
   "pygments_lexer": "ipython3",
   "version": "3.9.7"
  },
  "vscode": {
   "interpreter": {
    "hash": "4293deecdc7c3795ee566a191d4f502a35db2bbb6b972059f78dba08f27ad354"
   }
  }
 },
 "nbformat": 4,
 "nbformat_minor": 5
}
