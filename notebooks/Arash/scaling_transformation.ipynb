{
 "cells": [
  {
   "cell_type": "code",
   "execution_count": 6,
   "metadata": {},
   "outputs": [],
   "source": [
    "import pandas as pd \n",
    "import numpy as np\n",
    "import matplotlib.pyplot as plt \n",
    "import seaborn as sns\n",
    "import sklearn\n",
    "from sklearn.impute import SimpleImputer\n",
    "from sklearn.preprocessing import StandardScaler\n",
    "from sklearn.preprocessing import PowerTransformer\n",
    "from sklearn.preprocessing import RobustScaler\n",
    "import scipy.stats as stat\n",
    "import pylab \n"
   ]
  },
  {
   "cell_type": "code",
   "execution_count": 263,
   "metadata": {},
   "outputs": [],
   "source": [
    "#import datasets \n",
    "train_dist = pd.read_csv(\"C:/Users/aminp/OneDrive/Dokumenter/NTNU/4år/Machinelearning/machine_learning/data/train_data/train_set_with_only_distance_feat.csv\").drop([\"Unnamed: 0\"], axis = 1)\n",
    "test_dist = pd.read_csv(\"C:/Users/aminp/OneDrive/Dokumenter/NTNU/4år/Machinelearning/machine_learning/data/train_data/test_set_with_only_distance_feat.csv\").drop([\"Unnamed: 0\"], axis = 1)\n",
    "test_df = pd.read_csv(\"C:/Users/aminp/OneDrive/Dokumenter/NTNU/4år/Machinelearning/machine_learning/data/train_data/dataset_test_without_rev_features.csv\").drop([\"Unnamed: 0\"], axis = 1)\n",
    "rev = pd.read_csv(\"C:/Users/aminp/OneDrive/Dokumenter/NTNU/4år/Machinelearning/machine_learning/data/train_data/revenue_labels.csv\").drop([\"Unnamed: 0\"], axis = 1)\n",
    "stores_train_impuded = pd.read_csv(\"C:/Users/aminp/OneDrive/Dokumenter/NTNU/4år/Machinelearning/machine_learning/data/train_data/stores_gk_impuded.csv\")\n",
    "stores_test_impuded = pd.read_csv(\"C:/Users/aminp/OneDrive/Dokumenter/NTNU/4år/Machinelearning/machine_learning/data/train_data/stores_test_impuded.csv\")\n",
    "income_district = pd.read_csv(\"C:/Users/aminp/OneDrive/Dokumenter/NTNU/4år/Machinelearning/machine_learning/data/train_data/income_district.csv\").drop([\"Unnamed: 0\"], axis = 1)\n",
    "income_municipality = pd.read_csv(\"C:/Users/aminp/OneDrive/Dokumenter/NTNU/4år/Machinelearning/machine_learning/data/train_data/income_municipality.csv\").drop([\"Unnamed: 0\"], axis = 1)\n",
    "distance_train = pd.read_csv(\"C:/Users/aminp/OneDrive/Dokumenter/NTNU/4år/Machinelearning/machine_learning/data/train_data/arash_train.csv\").drop([\"Unnamed: 0\"], axis = 1)\n",
    "distance_test = pd.read_csv(\"C:/Users/aminp/OneDrive/Dokumenter/NTNU/4år/Machinelearning/machine_learning/data/train_data/arash_test.csv\").drop([\"Unnamed: 0\"], axis = 1)\n",
    "rev_precion = pd.read_csv(\"C:/Users/aminp/OneDrive/Dokumenter/NTNU/4år/Machinelearning/machine_learning/notebooks/Arash/submit_files/new_transformation.csv\")\n",
    "\n",
    "busstops = pd.read_csv('C:/Users/aminp/OneDrive/Dokumenter/NTNU/4år/Machinelearning/machine_learning/data/raw/busstops_norway.csv')\n",
    "grunnkrets_age = pd.read_csv('C:/Users/aminp/OneDrive/Dokumenter/NTNU/4år/Machinelearning/machine_learning/data/raw/grunnkrets_age_distribution.csv')\n",
    "grunnkrets_household = pd.read_csv('C:/Users/aminp/OneDrive/Dokumenter/NTNU/4år/Machinelearning/machine_learning/data/raw/grunnkrets_households_num_persons.csv')\n",
    "grunnkrets_income = pd.read_csv('C:/Users/aminp/OneDrive/Dokumenter/NTNU/4år/Machinelearning/machine_learning/data/raw/grunnkrets_income_households.csv')\n",
    "grunnkrets_norway = pd.read_csv('C:/Users/aminp/OneDrive/Dokumenter/NTNU/4år/Machinelearning/machine_learning/data/raw/grunnkrets_norway_stripped.csv')\n",
    "plaace_hierarchy = pd.read_csv('C:/Users/aminp/OneDrive/Dokumenter/NTNU/4år/Machinelearning/machine_learning/data/raw/plaace_hierarchy.csv')\n",
    "sample_submission = pd.read_csv('C:/Users/aminp/OneDrive/Dokumenter/NTNU/4år/Machinelearning/machine_learning/data/raw/sample_submission.csv')\n",
    "stores_extra = pd.read_csv('C:/Users/aminp/OneDrive/Dokumenter/NTNU/4år/Machinelearning/machine_learning/data/raw/stores_extra.csv')\n",
    "stores_test = pd.read_csv('C:/Users/aminp/OneDrive/Dokumenter/NTNU/4år/Machinelearning/machine_learning/data/raw/stores_test.csv')\n",
    "stores_train = pd.read_csv('C:/Users/aminp/OneDrive/Dokumenter/NTNU/4år/Machinelearning/machine_learning/data/raw/stores_train.csv')\n"
   ]
  },
  {
   "cell_type": "markdown",
   "metadata": {},
   "source": [
    "### Simple impuder"
   ]
  },
  {
   "cell_type": "code",
   "execution_count": 264,
   "metadata": {},
   "outputs": [],
   "source": [
    "# simple impuder with mean \n",
    "\n",
    "class PandasSimpleImputer(SimpleImputer):\n",
    "    \"\"\"A wrapper around `SimpleImputer` to return data frames with columns.\n",
    "    \"\"\"\n",
    "\n",
    "    def fit(self, X, y=None):\n",
    "        self.columns = X.columns\n",
    "        return super().fit(X, y)\n",
    "\n",
    "    def transform(self, X):\n",
    "        return pd.DataFrame(super().transform(X), columns=self.columns)\n"
   ]
  },
  {
   "cell_type": "markdown",
   "metadata": {},
   "source": [
    "### Power Transformation \n"
   ]
  },
  {
   "cell_type": "code",
   "execution_count": 265,
   "metadata": {},
   "outputs": [],
   "source": [
    "def powertransformer_yeo(df_original, df_impuded): \n",
    "    for col in df_impuded: \n",
    "        temp = PowerTransformer().fit_transform(df_impuded[[col]])\n",
    "        df_original[col] = temp\n",
    "    return df_original"
   ]
  },
  {
   "cell_type": "code",
   "execution_count": 266,
   "metadata": {},
   "outputs": [],
   "source": [
    "def powertransformer_boxcox(df_original, df_impuded): \n",
    "    for col in df_impuded: \n",
    "        temp = PowerTransformer(method=\"box-cox\").fit_transform(df_impuded[[col]])\n",
    "        df_original[col] = temp\n",
    "    return df_original"
   ]
  },
  {
   "cell_type": "markdown",
   "metadata": {},
   "source": [
    "### Robust Scaler"
   ]
  },
  {
   "cell_type": "code",
   "execution_count": 267,
   "metadata": {},
   "outputs": [],
   "source": [
    "scaler_robust = RobustScaler()\n",
    "def robust_scaler(df_original, df_impuded):\n",
    "    for col in df_impuded:\n",
    "        df_robust_scaler = scaler_robust.fit_transform(df_impuded[[col]])\n",
    "        df_original[col] = df_robust_scaler\n",
    "    return df_original"
   ]
  },
  {
   "cell_type": "markdown",
   "metadata": {},
   "source": [
    "### Simple concat function"
   ]
  },
  {
   "cell_type": "code",
   "execution_count": 268,
   "metadata": {},
   "outputs": [],
   "source": [
    "def concat_function(stores_df, adding_df): \n",
    "    for col in adding_df: \n",
    "        stores_df[col] = adding_df[col]\n",
    "    return stores_df "
   ]
  },
  {
   "cell_type": "markdown",
   "metadata": {},
   "source": [
    "### Two different ploting functions\n",
    "- First one is a Q-Q-plot which show how close to a normal distrubution the transformation results\n",
    "- The second show the distrubution before and after transformation"
   ]
  },
  {
   "cell_type": "code",
   "execution_count": 269,
   "metadata": {},
   "outputs": [],
   "source": [
    "#Check wether or not a feature is guassian or normal distributed, using Q-Q plot \n",
    "\n",
    "def plot_data(df,feature):\n",
    "    plt.figure(figsize=(10,6))\n",
    "    plt.subplot(1,2,1)\n",
    "    df[feature].hist()\n",
    "    plt.subplot(1,2,2)\n",
    "    stat.probplot(df[feature],dist='norm',plot=pylab)\n",
    "    plt.show()\n",
    "    \n",
    "def plots(df, var, t):\n",
    "    plt.figure(figsize=(13,5))\n",
    "    plt.subplot(121)\n",
    "    sns.kdeplot(df[var])\n",
    "    plt.title('before ' + str(t).split('(')[0])\n",
    "    \n",
    "    plt.subplot(122)\n",
    "    p1 = t.fit_transform(df[[var]]).flatten()\n",
    "    sns.kdeplot(p1)\n",
    "    plt.title('after ' + str(t).split('(')[0])\n"
   ]
  },
  {
   "cell_type": "markdown",
   "metadata": {},
   "source": [
    "### Transforming the respective columns"
   ]
  },
  {
   "cell_type": "code",
   "execution_count": 270,
   "metadata": {},
   "outputs": [],
   "source": [
    "distance_train[\"revenue\"] = rev.revenue"
   ]
  },
  {
   "cell_type": "code",
   "execution_count": 271,
   "metadata": {},
   "outputs": [],
   "source": [
    "feature_list = list(distance_train.iloc[:,11:])\n",
    "income_features = distance_train.iloc[:, 11:17]\n",
    "other_features = distance_train.iloc[:, 17:]\n",
    "#area_train = stores_train_impuded[[\"area_km2\"]]"
   ]
  },
  {
   "cell_type": "code",
   "execution_count": 272,
   "metadata": {},
   "outputs": [],
   "source": [
    "feature_list_test = list(distance_test.iloc[:, 10:])\n",
    "income_test_features = distance_test.iloc[:, 10:16]\n",
    "other_test_features = distance_test.iloc[:, 16:]\n",
    "#area_test = stores_test_impuded[[\"area_km2\"]]\n"
   ]
  },
  {
   "cell_type": "code",
   "execution_count": 273,
   "metadata": {},
   "outputs": [],
   "source": [
    "income_impuded = PandasSimpleImputer().fit_transform(income_features)\n",
    "other_impuded = PandasSimpleImputer().fit_transform(other_features)\n",
    "income_transformed = powertransformer_yeo(distance_train, income_impuded)\n",
    "features_transformed = powertransformer_boxcox(income_transformed, other_impuded)"
   ]
  },
  {
   "cell_type": "code",
   "execution_count": 274,
   "metadata": {},
   "outputs": [],
   "source": [
    "income_test_impuded = PandasSimpleImputer().fit_transform(income_test_features)\n",
    "other_test_impuded = PandasSimpleImputer().fit_transform(other_test_features)\n",
    "income_test_transformed = powertransformer_yeo(distance_test, income_test_impuded)\n",
    "features_test_transformed = powertransformer_boxcox(income_test_transformed, other_test_impuded)"
   ]
  },
  {
   "cell_type": "code",
   "execution_count": 275,
   "metadata": {},
   "outputs": [
    {
     "ename": "AttributeError",
     "evalue": "'DataFrame' object has no attribute 'str'",
     "output_type": "error",
     "traceback": [
      "\u001b[1;31m---------------------------------------------------------------------------\u001b[0m",
      "\u001b[1;31mAttributeError\u001b[0m                            Traceback (most recent call last)",
      "\u001b[1;32m<ipython-input-275-1333666421e2>\u001b[0m in \u001b[0;36m<module>\u001b[1;34m\u001b[0m\n\u001b[0;32m      1\u001b[0m \u001b[0mplaace_df\u001b[0m \u001b[1;33m=\u001b[0m \u001b[0mplaace_hierarchy\u001b[0m\u001b[1;33m.\u001b[0m\u001b[0mdrop\u001b[0m\u001b[1;33m(\u001b[0m\u001b[1;33m[\u001b[0m\u001b[1;34m\"sales_channel_name\"\u001b[0m\u001b[1;33m,\u001b[0m \u001b[1;34m\"lv1_desc\"\u001b[0m\u001b[1;33m,\u001b[0m \u001b[1;34m\"lv2_desc\"\u001b[0m\u001b[1;33m,\u001b[0m \u001b[1;34m\"lv3_desc\"\u001b[0m\u001b[1;33m,\u001b[0m \u001b[1;34m\"lv4_desc\"\u001b[0m\u001b[1;33m]\u001b[0m\u001b[1;33m,\u001b[0m \u001b[0maxis\u001b[0m \u001b[1;33m=\u001b[0m \u001b[1;36m1\u001b[0m\u001b[1;33m)\u001b[0m\u001b[1;33m\u001b[0m\u001b[1;33m\u001b[0m\u001b[0m\n\u001b[0;32m      2\u001b[0m \u001b[1;31m#plaace_df[[\"lv1\", \"lv2\", \"lv3\", \"lv4\"]] = plaace_df[[\"lv1\", \"lv2\", \"lv3\", \"lv4\"]].astype(str)\u001b[0m\u001b[1;33m\u001b[0m\u001b[1;33m\u001b[0m\u001b[0m\n\u001b[1;32m----> 3\u001b[1;33m \u001b[0mplaace_df\u001b[0m\u001b[1;33m[\u001b[0m\u001b[1;33m[\u001b[0m\u001b[1;34m\"lv2\"\u001b[0m\u001b[1;33m,\u001b[0m \u001b[1;34m\"lv3\"\u001b[0m\u001b[1;33m,\u001b[0m \u001b[1;34m\"lv4\"\u001b[0m\u001b[1;33m]\u001b[0m\u001b[1;33m]\u001b[0m \u001b[1;33m=\u001b[0m \u001b[0mplaace_df\u001b[0m\u001b[1;33m[\u001b[0m\u001b[1;33m[\u001b[0m\u001b[1;34m\"lv2\"\u001b[0m\u001b[1;33m,\u001b[0m \u001b[1;34m\"lv3\"\u001b[0m\u001b[1;33m,\u001b[0m \u001b[1;34m\"lv4\"\u001b[0m\u001b[1;33m]\u001b[0m\u001b[1;33m]\u001b[0m\u001b[1;33m.\u001b[0m\u001b[0mstr\u001b[0m\u001b[1;33m.\u001b[0m\u001b[0mreplace\u001b[0m\u001b[1;33m(\u001b[0m\u001b[1;34m\".\"\u001b[0m\u001b[1;33m,\u001b[0m \u001b[1;34m\"_\"\u001b[0m\u001b[1;33m,\u001b[0m \u001b[0minplace\u001b[0m \u001b[1;33m=\u001b[0m \u001b[1;32mTrue\u001b[0m\u001b[1;33m)\u001b[0m\u001b[1;33m\u001b[0m\u001b[1;33m\u001b[0m\u001b[0m\n\u001b[0m\u001b[0;32m      4\u001b[0m \u001b[1;33m\u001b[0m\u001b[0m\n\u001b[0;32m      5\u001b[0m \u001b[0mnew_stores_train\u001b[0m \u001b[1;33m=\u001b[0m \u001b[0mdistance_train\u001b[0m\u001b[1;33m.\u001b[0m\u001b[0mmerge\u001b[0m\u001b[1;33m(\u001b[0m\u001b[0mplaace_df\u001b[0m\u001b[1;33m,\u001b[0m \u001b[0mhow\u001b[0m \u001b[1;33m=\u001b[0m \u001b[1;34m\"left\"\u001b[0m\u001b[1;33m,\u001b[0m \u001b[0mon\u001b[0m \u001b[1;33m=\u001b[0m \u001b[1;34m\"plaace_hierarchy_id\"\u001b[0m\u001b[1;33m)\u001b[0m\u001b[1;33m\u001b[0m\u001b[1;33m\u001b[0m\u001b[0m\n",
      "\u001b[1;32mc:\\Users\\aminp\\AppData\\Local\\Programs\\Python\\Python39\\lib\\site-packages\\pandas\\core\\generic.py\u001b[0m in \u001b[0;36m__getattr__\u001b[1;34m(self, name)\u001b[0m\n\u001b[0;32m   5463\u001b[0m             \u001b[1;32mif\u001b[0m \u001b[0mself\u001b[0m\u001b[1;33m.\u001b[0m\u001b[0m_info_axis\u001b[0m\u001b[1;33m.\u001b[0m\u001b[0m_can_hold_identifiers_and_holds_name\u001b[0m\u001b[1;33m(\u001b[0m\u001b[0mname\u001b[0m\u001b[1;33m)\u001b[0m\u001b[1;33m:\u001b[0m\u001b[1;33m\u001b[0m\u001b[1;33m\u001b[0m\u001b[0m\n\u001b[0;32m   5464\u001b[0m                 \u001b[1;32mreturn\u001b[0m \u001b[0mself\u001b[0m\u001b[1;33m[\u001b[0m\u001b[0mname\u001b[0m\u001b[1;33m]\u001b[0m\u001b[1;33m\u001b[0m\u001b[1;33m\u001b[0m\u001b[0m\n\u001b[1;32m-> 5465\u001b[1;33m             \u001b[1;32mreturn\u001b[0m \u001b[0mobject\u001b[0m\u001b[1;33m.\u001b[0m\u001b[0m__getattribute__\u001b[0m\u001b[1;33m(\u001b[0m\u001b[0mself\u001b[0m\u001b[1;33m,\u001b[0m \u001b[0mname\u001b[0m\u001b[1;33m)\u001b[0m\u001b[1;33m\u001b[0m\u001b[1;33m\u001b[0m\u001b[0m\n\u001b[0m\u001b[0;32m   5466\u001b[0m \u001b[1;33m\u001b[0m\u001b[0m\n\u001b[0;32m   5467\u001b[0m     \u001b[1;32mdef\u001b[0m \u001b[0m__setattr__\u001b[0m\u001b[1;33m(\u001b[0m\u001b[0mself\u001b[0m\u001b[1;33m,\u001b[0m \u001b[0mname\u001b[0m\u001b[1;33m:\u001b[0m \u001b[0mstr\u001b[0m\u001b[1;33m,\u001b[0m \u001b[0mvalue\u001b[0m\u001b[1;33m)\u001b[0m \u001b[1;33m->\u001b[0m \u001b[1;32mNone\u001b[0m\u001b[1;33m:\u001b[0m\u001b[1;33m\u001b[0m\u001b[1;33m\u001b[0m\u001b[0m\n",
      "\u001b[1;31mAttributeError\u001b[0m: 'DataFrame' object has no attribute 'str'"
     ]
    }
   ],
   "source": [
    "plaace_df = plaace_hierarchy.drop([\"sales_channel_name\", \"lv1_desc\", \"lv2_desc\", \"lv3_desc\", \"lv4_desc\"], axis = 1)\n",
    "#plaace_df[[\"lv1\", \"lv2\", \"lv3\", \"lv4\"]] = plaace_df[[\"lv1\", \"lv2\", \"lv3\", \"lv4\"]].astype(str)\n",
    "plaace_df[[\"lv2\", \"lv3\", \"lv4\"]] = plaace_df[[\"lv2\", \"lv3\", \"lv4\"]].str.replace(\".\", \"_\", inplace = True)\n",
    "\n",
    "new_stores_train = distance_train.merge(plaace_df, how = \"left\", on = \"plaace_hierarchy_id\")\n",
    "new_train = new_stores_train.drop([\"plaace_hierarchy_id\"], axis = 1).set_index(\"store_id\")\n",
    "\n",
    "new_stores_test = distance_test.merge(plaace_df, how = \"left\", on = \"plaace_hierarchy_id\")\n",
    "new_test = new_stores_test.drop([\"plaace_hierarchy_id\"], axis = 1).set_index(\"store_id\")\n",
    "\n",
    "\n",
    "plaace_df\n",
    "\n",
    "\n"
   ]
  },
  {
   "cell_type": "code",
   "execution_count": 233,
   "metadata": {},
   "outputs": [],
   "source": [
    "new_train.to_csv(\"new_train_2.csv\")\n",
    "new_test.to_csv(\"new_test_2.csv\")"
   ]
  },
  {
   "cell_type": "markdown",
   "metadata": {},
   "source": [
    "### z-score detecting outliers "
   ]
  },
  {
   "cell_type": "code",
   "execution_count": 142,
   "metadata": {},
   "outputs": [],
   "source": [
    "def detect_outliers (stores_df, target, threshold_value): \n",
    "    outliers = []\n",
    "    threshold = threshold_value\n",
    "    mean = np.mean(stores_df[target])\n",
    "    std = np.std(stores_df[target])\n",
    "\n",
    "    for i in stores_df[target]: \n",
    "        z_score = (i - mean) / std\n",
    "        if np.abs(z_score) > threshold:\n",
    "            outliers.append(i)\n",
    "    return pd.DataFrame({\"rev_outliers\": outliers})\n",
    "    "
   ]
  },
  {
   "cell_type": "code",
   "execution_count": 143,
   "metadata": {},
   "outputs": [
    {
     "name": "stderr",
     "output_type": "stream",
     "text": [
      "<ipython-input-143-095067af16d5>:2: SettingWithCopyWarning: \n",
      "A value is trying to be set on a copy of a slice from a DataFrame.\n",
      "Try using .loc[row_indexer,col_indexer] = value instead\n",
      "\n",
      "See the caveats in the documentation: https://pandas.pydata.org/pandas-docs/stable/user_guide/indexing.html#returning-a-view-versus-a-copy\n",
      "  check_df[\"z_score\"] = (check_df.revenue - check_df.revenue.mean()) / check_df.revenue.std()\n"
     ]
    }
   ],
   "source": [
    "check_df = stores_train[[\"store_id\", \"revenue\"]]\n",
    "check_df[\"z_score\"] = (check_df.revenue - check_df.revenue.mean()) / check_df.revenue.std()\n",
    "outliers = check_df[(check_df.z_score < -3) | (check_df.z_score > 3)]\n"
   ]
  },
  {
   "cell_type": "code",
   "execution_count": 144,
   "metadata": {},
   "outputs": [
    {
     "data": {
      "text/html": [
       "<div>\n",
       "<style scoped>\n",
       "    .dataframe tbody tr th:only-of-type {\n",
       "        vertical-align: middle;\n",
       "    }\n",
       "\n",
       "    .dataframe tbody tr th {\n",
       "        vertical-align: top;\n",
       "    }\n",
       "\n",
       "    .dataframe thead th {\n",
       "        text-align: right;\n",
       "    }\n",
       "</style>\n",
       "<table border=\"1\" class=\"dataframe\">\n",
       "  <thead>\n",
       "    <tr style=\"text-align: right;\">\n",
       "      <th></th>\n",
       "      <th>store_id</th>\n",
       "      <th>revenue</th>\n",
       "      <th>z_score</th>\n",
       "    </tr>\n",
       "  </thead>\n",
       "  <tbody>\n",
       "    <tr>\n",
       "      <th>53</th>\n",
       "      <td>999276032-985152012-278955</td>\n",
       "      <td>70.000</td>\n",
       "      <td>4.017610</td>\n",
       "    </tr>\n",
       "    <tr>\n",
       "      <th>381</th>\n",
       "      <td>997097246-997551923-163877</td>\n",
       "      <td>60.844</td>\n",
       "      <td>3.422181</td>\n",
       "    </tr>\n",
       "    <tr>\n",
       "      <th>398</th>\n",
       "      <td>991949283-993310190-115693</td>\n",
       "      <td>81.609</td>\n",
       "      <td>4.772563</td>\n",
       "    </tr>\n",
       "    <tr>\n",
       "      <th>603</th>\n",
       "      <td>999183751-999206204-306176</td>\n",
       "      <td>57.709</td>\n",
       "      <td>3.218306</td>\n",
       "    </tr>\n",
       "    <tr>\n",
       "      <th>716</th>\n",
       "      <td>991642684-991810811-325907</td>\n",
       "      <td>61.373</td>\n",
       "      <td>3.456582</td>\n",
       "    </tr>\n",
       "    <tr>\n",
       "      <th>...</th>\n",
       "      <td>...</td>\n",
       "      <td>...</td>\n",
       "      <td>...</td>\n",
       "    </tr>\n",
       "    <tr>\n",
       "      <th>9074</th>\n",
       "      <td>979400934-979458169-10711</td>\n",
       "      <td>57.056</td>\n",
       "      <td>3.175841</td>\n",
       "    </tr>\n",
       "    <tr>\n",
       "      <th>9102</th>\n",
       "      <td>912757102-973152440-11049</td>\n",
       "      <td>63.935</td>\n",
       "      <td>3.623193</td>\n",
       "    </tr>\n",
       "    <tr>\n",
       "      <th>11625</th>\n",
       "      <td>911959240-911974061-622234</td>\n",
       "      <td>62.778</td>\n",
       "      <td>3.547952</td>\n",
       "    </tr>\n",
       "    <tr>\n",
       "      <th>11627</th>\n",
       "      <td>975807371-975825639-390482</td>\n",
       "      <td>98.935</td>\n",
       "      <td>5.899301</td>\n",
       "    </tr>\n",
       "    <tr>\n",
       "      <th>12592</th>\n",
       "      <td>993941263-993953814-104441</td>\n",
       "      <td>60.000</td>\n",
       "      <td>3.367294</td>\n",
       "    </tr>\n",
       "  </tbody>\n",
       "</table>\n",
       "<p>328 rows × 3 columns</p>\n",
       "</div>"
      ],
      "text/plain": [
       "                         store_id  revenue   z_score\n",
       "53     999276032-985152012-278955   70.000  4.017610\n",
       "381    997097246-997551923-163877   60.844  3.422181\n",
       "398    991949283-993310190-115693   81.609  4.772563\n",
       "603    999183751-999206204-306176   57.709  3.218306\n",
       "716    991642684-991810811-325907   61.373  3.456582\n",
       "...                           ...      ...       ...\n",
       "9074    979400934-979458169-10711   57.056  3.175841\n",
       "9102    912757102-973152440-11049   63.935  3.623193\n",
       "11625  911959240-911974061-622234   62.778  3.547952\n",
       "11627  975807371-975825639-390482   98.935  5.899301\n",
       "12592  993941263-993953814-104441   60.000  3.367294\n",
       "\n",
       "[328 rows x 3 columns]"
      ]
     },
     "execution_count": 144,
     "metadata": {},
     "output_type": "execute_result"
    }
   ],
   "source": [
    "outliers"
   ]
  },
  {
   "cell_type": "code",
   "execution_count": 145,
   "metadata": {},
   "outputs": [],
   "source": [
    "new_stores_train[\"z_score\"] = (new_stores_train.revenue - new_stores_train.revenue.mean()) / new_stores_train.revenue.std()\n",
    "stores_train_no_outliers = (new_stores_train[(new_stores_train.z_score >-3) & (new_stores_train.z_score < 3)])\n",
    "\n"
   ]
  },
  {
   "cell_type": "code",
   "execution_count": 148,
   "metadata": {},
   "outputs": [],
   "source": [
    "train_without_outliers = stores_train_no_outliers.drop([\"z_score\"], axis = 1).set_index(\"store_id\")\n",
    "train_without_outliers.to_csv(\"train_without_outliers.csv\")"
   ]
  },
  {
   "cell_type": "code",
   "execution_count": 147,
   "metadata": {},
   "outputs": [
    {
     "data": {
      "text/html": [
       "<div>\n",
       "<style scoped>\n",
       "    .dataframe tbody tr th:only-of-type {\n",
       "        vertical-align: middle;\n",
       "    }\n",
       "\n",
       "    .dataframe tbody tr th {\n",
       "        vertical-align: top;\n",
       "    }\n",
       "\n",
       "    .dataframe thead th {\n",
       "        text-align: right;\n",
       "    }\n",
       "</style>\n",
       "<table border=\"1\" class=\"dataframe\">\n",
       "  <thead>\n",
       "    <tr style=\"text-align: right;\">\n",
       "      <th></th>\n",
       "      <th>store_name</th>\n",
       "      <th>plaace_hierarchy_id</th>\n",
       "      <th>sales_channel_name</th>\n",
       "      <th>grunnkrets_id</th>\n",
       "      <th>address</th>\n",
       "      <th>lat</th>\n",
       "      <th>lon</th>\n",
       "      <th>chain_name</th>\n",
       "      <th>mall_name</th>\n",
       "      <th>revenue</th>\n",
       "      <th>...</th>\n",
       "      <th>pt_box_distance_to_lv2_desc</th>\n",
       "      <th>pt_box_distance_to_lv3_desc</th>\n",
       "      <th>pt_box_distance_to_lv4_desc</th>\n",
       "      <th>pt_box_grunnkrets_id_density</th>\n",
       "      <th>pt_box_t_district_density</th>\n",
       "      <th>pt_box_municipality_name_density</th>\n",
       "      <th>lv1</th>\n",
       "      <th>lv2</th>\n",
       "      <th>lv3</th>\n",
       "      <th>lv4</th>\n",
       "    </tr>\n",
       "    <tr>\n",
       "      <th>store_id</th>\n",
       "      <th></th>\n",
       "      <th></th>\n",
       "      <th></th>\n",
       "      <th></th>\n",
       "      <th></th>\n",
       "      <th></th>\n",
       "      <th></th>\n",
       "      <th></th>\n",
       "      <th></th>\n",
       "      <th></th>\n",
       "      <th></th>\n",
       "      <th></th>\n",
       "      <th></th>\n",
       "      <th></th>\n",
       "      <th></th>\n",
       "      <th></th>\n",
       "      <th></th>\n",
       "      <th></th>\n",
       "      <th></th>\n",
       "      <th></th>\n",
       "      <th></th>\n",
       "    </tr>\n",
       "  </thead>\n",
       "  <tbody>\n",
       "    <tr>\n",
       "      <th>983540538-974187930-44774</th>\n",
       "      <td>MCDONALD'S BRAGERNES TORG MAGASINET</td>\n",
       "      <td>1.1.1.0</td>\n",
       "      <td>Hamburger restaurants</td>\n",
       "      <td>6020303</td>\n",
       "      <td>BRAGERNES TORG 13</td>\n",
       "      <td>59.743104</td>\n",
       "      <td>10.204928</td>\n",
       "      <td>MCDONALDS</td>\n",
       "      <td>Magasinet Drammen</td>\n",
       "      <td>17.998</td>\n",
       "      <td>...</td>\n",
       "      <td>-0.536963</td>\n",
       "      <td>0.815145</td>\n",
       "      <td>0.772654</td>\n",
       "      <td>-0.425471</td>\n",
       "      <td>0.606571</td>\n",
       "      <td>0.833192</td>\n",
       "      <td>1</td>\n",
       "      <td>1</td>\n",
       "      <td>1</td>\n",
       "      <td>0</td>\n",
       "    </tr>\n",
       "    <tr>\n",
       "      <th>987074191-973117734-44755</th>\n",
       "      <td>MCDONALD'S KLINGENBERGGATA</td>\n",
       "      <td>1.1.1.0</td>\n",
       "      <td>Hamburger restaurants</td>\n",
       "      <td>3010306</td>\n",
       "      <td>NaN</td>\n",
       "      <td>59.913759</td>\n",
       "      <td>10.734031</td>\n",
       "      <td>MCDONALDS</td>\n",
       "      <td>NaN</td>\n",
       "      <td>23.828</td>\n",
       "      <td>...</td>\n",
       "      <td>-0.768995</td>\n",
       "      <td>-0.515914</td>\n",
       "      <td>-0.555738</td>\n",
       "      <td>0.562198</td>\n",
       "      <td>1.670229</td>\n",
       "      <td>1.587416</td>\n",
       "      <td>1</td>\n",
       "      <td>1</td>\n",
       "      <td>1</td>\n",
       "      <td>0</td>\n",
       "    </tr>\n",
       "    <tr>\n",
       "      <th>984890265-981157303-64491</th>\n",
       "      <td>BURGER KING HØNEFOSS</td>\n",
       "      <td>1.1.1.0</td>\n",
       "      <td>Hamburger restaurants</td>\n",
       "      <td>6050102</td>\n",
       "      <td>KONG RINGS GATE 1</td>\n",
       "      <td>60.164751</td>\n",
       "      <td>10.254656</td>\n",
       "      <td>BURGER KING</td>\n",
       "      <td>Kuben Hønefoss</td>\n",
       "      <td>16.099</td>\n",
       "      <td>...</td>\n",
       "      <td>-0.435900</td>\n",
       "      <td>1.831593</td>\n",
       "      <td>1.784193</td>\n",
       "      <td>0.220562</td>\n",
       "      <td>0.286544</td>\n",
       "      <td>-0.853802</td>\n",
       "      <td>1</td>\n",
       "      <td>1</td>\n",
       "      <td>1</td>\n",
       "      <td>0</td>\n",
       "    </tr>\n",
       "    <tr>\n",
       "      <th>914057442-992924179-126912</th>\n",
       "      <td>BURGER KING GLASSHUSPASSASJEN</td>\n",
       "      <td>1.1.1.0</td>\n",
       "      <td>Hamburger restaurants</td>\n",
       "      <td>18040102</td>\n",
       "      <td>STORGATA 12</td>\n",
       "      <td>67.283669</td>\n",
       "      <td>14.379796</td>\n",
       "      <td>BURGER KING</td>\n",
       "      <td>Glasshuspassasjen</td>\n",
       "      <td>9.296</td>\n",
       "      <td>...</td>\n",
       "      <td>-0.736431</td>\n",
       "      <td>0.777371</td>\n",
       "      <td>0.735018</td>\n",
       "      <td>0.856468</td>\n",
       "      <td>0.783587</td>\n",
       "      <td>0.178579</td>\n",
       "      <td>1</td>\n",
       "      <td>1</td>\n",
       "      <td>1</td>\n",
       "      <td>0</td>\n",
       "    </tr>\n",
       "    <tr>\n",
       "      <th>913018583-913063538-668469</th>\n",
       "      <td>BURGER KING TILLERTORGET</td>\n",
       "      <td>1.1.1.0</td>\n",
       "      <td>Hamburger restaurants</td>\n",
       "      <td>16017414</td>\n",
       "      <td>NaN</td>\n",
       "      <td>63.358068</td>\n",
       "      <td>10.374832</td>\n",
       "      <td>BURGER KING</td>\n",
       "      <td>Tillertorget</td>\n",
       "      <td>4.528</td>\n",
       "      <td>...</td>\n",
       "      <td>-0.300597</td>\n",
       "      <td>-0.364151</td>\n",
       "      <td>-0.404034</td>\n",
       "      <td>0.562198</td>\n",
       "      <td>-0.195110</td>\n",
       "      <td>0.572502</td>\n",
       "      <td>1</td>\n",
       "      <td>1</td>\n",
       "      <td>1</td>\n",
       "      <td>0</td>\n",
       "    </tr>\n",
       "    <tr>\n",
       "      <th>...</th>\n",
       "      <td>...</td>\n",
       "      <td>...</td>\n",
       "      <td>...</td>\n",
       "      <td>...</td>\n",
       "      <td>...</td>\n",
       "      <td>...</td>\n",
       "      <td>...</td>\n",
       "      <td>...</td>\n",
       "      <td>...</td>\n",
       "      <td>...</td>\n",
       "      <td>...</td>\n",
       "      <td>...</td>\n",
       "      <td>...</td>\n",
       "      <td>...</td>\n",
       "      <td>...</td>\n",
       "      <td>...</td>\n",
       "      <td>...</td>\n",
       "      <td>...</td>\n",
       "      <td>...</td>\n",
       "      <td>...</td>\n",
       "      <td>...</td>\n",
       "    </tr>\n",
       "    <tr>\n",
       "      <th>915789943-915806929-781991</th>\n",
       "      <td>MEIERIGÅRDEN BRYGGERIUTSALG</td>\n",
       "      <td>2.8.11.2</td>\n",
       "      <td>Beer and soda shop</td>\n",
       "      <td>7010705</td>\n",
       "      <td>THUEGATA 2</td>\n",
       "      <td>59.416276</td>\n",
       "      <td>10.480970</td>\n",
       "      <td>NaN</td>\n",
       "      <td>NaN</td>\n",
       "      <td>0.088</td>\n",
       "      <td>...</td>\n",
       "      <td>-0.176127</td>\n",
       "      <td>-0.112144</td>\n",
       "      <td>0.105307</td>\n",
       "      <td>0.892994</td>\n",
       "      <td>0.267269</td>\n",
       "      <td>0.032579</td>\n",
       "      <td>2</td>\n",
       "      <td>8</td>\n",
       "      <td>11</td>\n",
       "      <td>2</td>\n",
       "    </tr>\n",
       "    <tr>\n",
       "      <th>917921733-917982368-868081</th>\n",
       "      <td>GULATING ØLUTSALG CC GJØVIK</td>\n",
       "      <td>2.8.11.2</td>\n",
       "      <td>Beer and soda shop</td>\n",
       "      <td>5020406</td>\n",
       "      <td>NaN</td>\n",
       "      <td>60.799991</td>\n",
       "      <td>10.693635</td>\n",
       "      <td>GULATING GRUPPEN</td>\n",
       "      <td>CC Gjøvik</td>\n",
       "      <td>1.816</td>\n",
       "      <td>...</td>\n",
       "      <td>-2.390752</td>\n",
       "      <td>-2.821749</td>\n",
       "      <td>1.615662</td>\n",
       "      <td>0.595046</td>\n",
       "      <td>0.793294</td>\n",
       "      <td>-0.824242</td>\n",
       "      <td>2</td>\n",
       "      <td>8</td>\n",
       "      <td>11</td>\n",
       "      <td>2</td>\n",
       "    </tr>\n",
       "    <tr>\n",
       "      <th>911721961-911764474-496764</th>\n",
       "      <td>GULATING ØLUTSALG STRØMMEN</td>\n",
       "      <td>2.8.11.2</td>\n",
       "      <td>Beer and soda shop</td>\n",
       "      <td>2310803</td>\n",
       "      <td>STØPERIVEIEN 6</td>\n",
       "      <td>59.946562</td>\n",
       "      <td>11.007659</td>\n",
       "      <td>GULATING GRUPPEN</td>\n",
       "      <td>Strømmen Storsenter</td>\n",
       "      <td>38.225</td>\n",
       "      <td>...</td>\n",
       "      <td>-0.576198</td>\n",
       "      <td>-0.936167</td>\n",
       "      <td>0.881749</td>\n",
       "      <td>1.383700</td>\n",
       "      <td>0.735564</td>\n",
       "      <td>0.470185</td>\n",
       "      <td>2</td>\n",
       "      <td>8</td>\n",
       "      <td>11</td>\n",
       "      <td>2</td>\n",
       "    </tr>\n",
       "    <tr>\n",
       "      <th>914337046-914343372-721294</th>\n",
       "      <td>DET GODE BRYGG</td>\n",
       "      <td>2.8.11.2</td>\n",
       "      <td>Beer and soda shop</td>\n",
       "      <td>11020113</td>\n",
       "      <td>VÅGSGATA 16</td>\n",
       "      <td>58.850261</td>\n",
       "      <td>5.735674</td>\n",
       "      <td>NaN</td>\n",
       "      <td>Bystasjonen</td>\n",
       "      <td>3.642</td>\n",
       "      <td>...</td>\n",
       "      <td>-0.626075</td>\n",
       "      <td>-0.318971</td>\n",
       "      <td>1.248906</td>\n",
       "      <td>1.279125</td>\n",
       "      <td>0.713610</td>\n",
       "      <td>-0.165527</td>\n",
       "      <td>2</td>\n",
       "      <td>8</td>\n",
       "      <td>11</td>\n",
       "      <td>2</td>\n",
       "    </tr>\n",
       "    <tr>\n",
       "      <th>917494436-917551936-851089</th>\n",
       "      <td>TROMSØ BRYGGERIUTSALG AS</td>\n",
       "      <td>2.8.11.2</td>\n",
       "      <td>Beer and soda shop</td>\n",
       "      <td>19021302</td>\n",
       "      <td>PLANETVEGEN 10</td>\n",
       "      <td>69.670422</td>\n",
       "      <td>19.042659</td>\n",
       "      <td>NaN</td>\n",
       "      <td>NaN</td>\n",
       "      <td>2.328</td>\n",
       "      <td>...</td>\n",
       "      <td>0.963472</td>\n",
       "      <td>1.055099</td>\n",
       "      <td>3.930414</td>\n",
       "      <td>0.958560</td>\n",
       "      <td>0.520497</td>\n",
       "      <td>0.485065</td>\n",
       "      <td>2</td>\n",
       "      <td>8</td>\n",
       "      <td>11</td>\n",
       "      <td>2</td>\n",
       "    </tr>\n",
       "  </tbody>\n",
       "</table>\n",
       "<p>12531 rows × 33 columns</p>\n",
       "</div>"
      ],
      "text/plain": [
       "                                                     store_name  \\\n",
       "store_id                                                          \n",
       "983540538-974187930-44774   MCDONALD'S BRAGERNES TORG MAGASINET   \n",
       "987074191-973117734-44755            MCDONALD'S KLINGENBERGGATA   \n",
       "984890265-981157303-64491                  BURGER KING HØNEFOSS   \n",
       "914057442-992924179-126912        BURGER KING GLASSHUSPASSASJEN   \n",
       "913018583-913063538-668469             BURGER KING TILLERTORGET   \n",
       "...                                                         ...   \n",
       "915789943-915806929-781991          MEIERIGÅRDEN BRYGGERIUTSALG   \n",
       "917921733-917982368-868081          GULATING ØLUTSALG CC GJØVIK   \n",
       "911721961-911764474-496764           GULATING ØLUTSALG STRØMMEN   \n",
       "914337046-914343372-721294                       DET GODE BRYGG   \n",
       "917494436-917551936-851089             TROMSØ BRYGGERIUTSALG AS   \n",
       "\n",
       "                           plaace_hierarchy_id     sales_channel_name  \\\n",
       "store_id                                                                \n",
       "983540538-974187930-44774              1.1.1.0  Hamburger restaurants   \n",
       "987074191-973117734-44755              1.1.1.0  Hamburger restaurants   \n",
       "984890265-981157303-64491              1.1.1.0  Hamburger restaurants   \n",
       "914057442-992924179-126912             1.1.1.0  Hamburger restaurants   \n",
       "913018583-913063538-668469             1.1.1.0  Hamburger restaurants   \n",
       "...                                        ...                    ...   \n",
       "915789943-915806929-781991            2.8.11.2     Beer and soda shop   \n",
       "917921733-917982368-868081            2.8.11.2     Beer and soda shop   \n",
       "911721961-911764474-496764            2.8.11.2     Beer and soda shop   \n",
       "914337046-914343372-721294            2.8.11.2     Beer and soda shop   \n",
       "917494436-917551936-851089            2.8.11.2     Beer and soda shop   \n",
       "\n",
       "                            grunnkrets_id            address        lat  \\\n",
       "store_id                                                                  \n",
       "983540538-974187930-44774         6020303  BRAGERNES TORG 13  59.743104   \n",
       "987074191-973117734-44755         3010306                NaN  59.913759   \n",
       "984890265-981157303-64491         6050102  KONG RINGS GATE 1  60.164751   \n",
       "914057442-992924179-126912       18040102        STORGATA 12  67.283669   \n",
       "913018583-913063538-668469       16017414                NaN  63.358068   \n",
       "...                                   ...                ...        ...   \n",
       "915789943-915806929-781991        7010705         THUEGATA 2  59.416276   \n",
       "917921733-917982368-868081        5020406                NaN  60.799991   \n",
       "911721961-911764474-496764        2310803     STØPERIVEIEN 6  59.946562   \n",
       "914337046-914343372-721294       11020113        VÅGSGATA 16  58.850261   \n",
       "917494436-917551936-851089       19021302     PLANETVEGEN 10  69.670422   \n",
       "\n",
       "                                  lon        chain_name            mall_name  \\\n",
       "store_id                                                                       \n",
       "983540538-974187930-44774   10.204928         MCDONALDS    Magasinet Drammen   \n",
       "987074191-973117734-44755   10.734031         MCDONALDS                  NaN   \n",
       "984890265-981157303-64491   10.254656       BURGER KING       Kuben Hønefoss   \n",
       "914057442-992924179-126912  14.379796       BURGER KING    Glasshuspassasjen   \n",
       "913018583-913063538-668469  10.374832       BURGER KING         Tillertorget   \n",
       "...                               ...               ...                  ...   \n",
       "915789943-915806929-781991  10.480970               NaN                  NaN   \n",
       "917921733-917982368-868081  10.693635  GULATING GRUPPEN            CC Gjøvik   \n",
       "911721961-911764474-496764  11.007659  GULATING GRUPPEN  Strømmen Storsenter   \n",
       "914337046-914343372-721294   5.735674               NaN          Bystasjonen   \n",
       "917494436-917551936-851089  19.042659               NaN                  NaN   \n",
       "\n",
       "                            revenue  ...  pt_box_distance_to_lv2_desc  \\\n",
       "store_id                             ...                                \n",
       "983540538-974187930-44774    17.998  ...                    -0.536963   \n",
       "987074191-973117734-44755    23.828  ...                    -0.768995   \n",
       "984890265-981157303-64491    16.099  ...                    -0.435900   \n",
       "914057442-992924179-126912    9.296  ...                    -0.736431   \n",
       "913018583-913063538-668469    4.528  ...                    -0.300597   \n",
       "...                             ...  ...                          ...   \n",
       "915789943-915806929-781991    0.088  ...                    -0.176127   \n",
       "917921733-917982368-868081    1.816  ...                    -2.390752   \n",
       "911721961-911764474-496764   38.225  ...                    -0.576198   \n",
       "914337046-914343372-721294    3.642  ...                    -0.626075   \n",
       "917494436-917551936-851089    2.328  ...                     0.963472   \n",
       "\n",
       "                            pt_box_distance_to_lv3_desc  \\\n",
       "store_id                                                  \n",
       "983540538-974187930-44774                      0.815145   \n",
       "987074191-973117734-44755                     -0.515914   \n",
       "984890265-981157303-64491                      1.831593   \n",
       "914057442-992924179-126912                     0.777371   \n",
       "913018583-913063538-668469                    -0.364151   \n",
       "...                                                 ...   \n",
       "915789943-915806929-781991                    -0.112144   \n",
       "917921733-917982368-868081                    -2.821749   \n",
       "911721961-911764474-496764                    -0.936167   \n",
       "914337046-914343372-721294                    -0.318971   \n",
       "917494436-917551936-851089                     1.055099   \n",
       "\n",
       "                            pt_box_distance_to_lv4_desc  \\\n",
       "store_id                                                  \n",
       "983540538-974187930-44774                      0.772654   \n",
       "987074191-973117734-44755                     -0.555738   \n",
       "984890265-981157303-64491                      1.784193   \n",
       "914057442-992924179-126912                     0.735018   \n",
       "913018583-913063538-668469                    -0.404034   \n",
       "...                                                 ...   \n",
       "915789943-915806929-781991                     0.105307   \n",
       "917921733-917982368-868081                     1.615662   \n",
       "911721961-911764474-496764                     0.881749   \n",
       "914337046-914343372-721294                     1.248906   \n",
       "917494436-917551936-851089                     3.930414   \n",
       "\n",
       "                            pt_box_grunnkrets_id_density  \\\n",
       "store_id                                                   \n",
       "983540538-974187930-44774                      -0.425471   \n",
       "987074191-973117734-44755                       0.562198   \n",
       "984890265-981157303-64491                       0.220562   \n",
       "914057442-992924179-126912                      0.856468   \n",
       "913018583-913063538-668469                      0.562198   \n",
       "...                                                  ...   \n",
       "915789943-915806929-781991                      0.892994   \n",
       "917921733-917982368-868081                      0.595046   \n",
       "911721961-911764474-496764                      1.383700   \n",
       "914337046-914343372-721294                      1.279125   \n",
       "917494436-917551936-851089                      0.958560   \n",
       "\n",
       "                            pt_box_t_district_density  \\\n",
       "store_id                                                \n",
       "983540538-974187930-44774                    0.606571   \n",
       "987074191-973117734-44755                    1.670229   \n",
       "984890265-981157303-64491                    0.286544   \n",
       "914057442-992924179-126912                   0.783587   \n",
       "913018583-913063538-668469                  -0.195110   \n",
       "...                                               ...   \n",
       "915789943-915806929-781991                   0.267269   \n",
       "917921733-917982368-868081                   0.793294   \n",
       "911721961-911764474-496764                   0.735564   \n",
       "914337046-914343372-721294                   0.713610   \n",
       "917494436-917551936-851089                   0.520497   \n",
       "\n",
       "                            pt_box_municipality_name_density  lv1  lv2  lv3  \\\n",
       "store_id                                                                      \n",
       "983540538-974187930-44774                           0.833192    1    1    1   \n",
       "987074191-973117734-44755                           1.587416    1    1    1   \n",
       "984890265-981157303-64491                          -0.853802    1    1    1   \n",
       "914057442-992924179-126912                          0.178579    1    1    1   \n",
       "913018583-913063538-668469                          0.572502    1    1    1   \n",
       "...                                                      ...  ...  ...  ...   \n",
       "915789943-915806929-781991                          0.032579    2    8   11   \n",
       "917921733-917982368-868081                         -0.824242    2    8   11   \n",
       "911721961-911764474-496764                          0.470185    2    8   11   \n",
       "914337046-914343372-721294                         -0.165527    2    8   11   \n",
       "917494436-917551936-851089                          0.485065    2    8   11   \n",
       "\n",
       "                            lv4  \n",
       "store_id                         \n",
       "983540538-974187930-44774     0  \n",
       "987074191-973117734-44755     0  \n",
       "984890265-981157303-64491     0  \n",
       "914057442-992924179-126912    0  \n",
       "913018583-913063538-668469    0  \n",
       "...                         ...  \n",
       "915789943-915806929-781991    2  \n",
       "917921733-917982368-868081    2  \n",
       "911721961-911764474-496764    2  \n",
       "914337046-914343372-721294    2  \n",
       "917494436-917551936-851089    2  \n",
       "\n",
       "[12531 rows x 33 columns]"
      ]
     },
     "execution_count": 147,
     "metadata": {},
     "output_type": "execute_result"
    }
   ],
   "source": [
    "train_without_outliers"
   ]
  },
  {
   "cell_type": "markdown",
   "metadata": {},
   "source": [
    "### Testing with plots"
   ]
  },
  {
   "cell_type": "code",
   "execution_count": 114,
   "metadata": {},
   "outputs": [
    {
     "data": {
      "text/plain": [
       "<AxesSubplot:xlabel='revenue', ylabel='Count'>"
      ]
     },
     "execution_count": 114,
     "metadata": {},
     "output_type": "execute_result"
    },
    {
     "data": {
      "image/png": "[encoded data removed]",
      "text/plain": [
       "<Figure size 432x288 with 1 Axes>"
      ]
     },
     "metadata": {
      "needs_background": "light"
     },
     "output_type": "display_data"
    }
   ],
   "source": [
    "sns.histplot(data = train_without_outliers, x = \"revenue\")\n"
   ]
  },
  {
   "cell_type": "code",
   "execution_count": 121,
   "metadata": {},
   "outputs": [
    {
     "data": {
      "image/png": "[encoded data removed]",
      "text/plain": [
       "<Figure size 720x432 with 2 Axes>"
      ]
     },
     "metadata": {
      "needs_background": "light"
     },
     "output_type": "display_data"
    },
    {
     "data": {
      "image/png": "[encoded data removed]",
      "text/plain": [
       "<Figure size 936x360 with 2 Axes>"
      ]
     },
     "metadata": {
      "needs_background": "light"
     },
     "output_type": "display_data"
    }
   ],
   "source": [
    "rev_trans = train_without_outliers[[\"revenue\"]]\n",
    "rev_transform_plot = powertransformer_yeo(train_without_outliers, rev_trans)\n",
    "plot_data(rev_transform_plot, \"pt_yeo_revenue\")\n",
    "plot_data()\n",
    "plots(train_without_outliers, \"revenue\", PowerTransformer())\n"
   ]
  },
  {
   "cell_type": "code",
   "execution_count": 17,
   "metadata": {},
   "outputs": [
    {
     "data": {
      "image/png": "[encoded data removed]",
      "text/plain": [
       "<Figure size 720x432 with 2 Axes>"
      ]
     },
     "metadata": {
      "needs_background": "light"
     },
     "output_type": "display_data"
    }
   ],
   "source": [
    "plot_data(features_transformed, \"pt_yeo_distance_to_mangler_viktighetsnivå\")"
   ]
  },
  {
   "cell_type": "code",
   "execution_count": 62,
   "metadata": {},
   "outputs": [
    {
     "data": {
      "image/png": "[encoded data removed]",
      "text/plain": [
       "<Figure size 720x432 with 2 Axes>"
      ]
     },
     "metadata": {
      "needs_background": "light"
     },
     "output_type": "display_data"
    },
    {
     "data": {
      "image/png": "[encoded data removed]",
      "text/plain": [
       "<Figure size 720x432 with 2 Axes>"
      ]
     },
     "metadata": {
      "needs_background": "light"
     },
     "output_type": "display_data"
    }
   ],
   "source": [
    "#plot_data(train_dist, \"closeststore__distance_lv1_desc\")\n",
    "plot_data(stores_temp, \"pt_yeo_area_km2\")\n",
    "plot_data(stores_temp, \"pt_box_area_km2\")\n"
   ]
  },
  {
   "cell_type": "markdown",
   "metadata": {},
   "source": [
    "### Log Transform "
   ]
  },
  {
   "cell_type": "code",
   "execution_count": 218,
   "metadata": {},
   "outputs": [
    {
     "data": {
      "image/png": "[encoded data removed]",
      "text/plain": [
       "<Figure size 720x432 with 2 Axes>"
      ]
     },
     "metadata": {
      "needs_background": "light"
     },
     "output_type": "display_data"
    }
   ],
   "source": [
    "#Taking log(1+x)\n",
    "\n",
    "#train_dist_transformed[\"cs_lv1_log\"] = np.log(train_dist[\"closeststore__distance_lv1_desc\"])\n",
    "#plot_data(train_dist_transformed, \"cs_lv1_log\")\n",
    "\n",
    "income_imp[\"singles_log\"] = np.log(1+income_imp.singles)\n",
    "plot_data(income_imp, \"singles_log\")"
   ]
  },
  {
   "cell_type": "markdown",
   "metadata": {},
   "source": [
    "### Reciprocal Trnasformation"
   ]
  },
  {
   "cell_type": "code",
   "execution_count": 219,
   "metadata": {},
   "outputs": [
    {
     "data": {
      "image/png": "[encoded data removed]",
      "text/plain": [
       "<Figure size 720x432 with 2 Axes>"
      ]
     },
     "metadata": {
      "needs_background": "light"
     },
     "output_type": "display_data"
    }
   ],
   "source": [
    "### Taking 1/(1+x)\n",
    "\n",
    "#train_dist_transformed[\"cs_lv1_reciprocal\"]= 1 / (train_dist[\"closeststore__distance_lv1_desc\"])\n",
    "#plot_data(train_dist_transformed, \"cs_lv1_reciprocal\")\n",
    "\n",
    "income_imp[\"singles_reciprocal\"] = 1 / (1+income_imp.singles)\n",
    "plot_data(income_imp, \"singles_reciprocal\")"
   ]
  },
  {
   "cell_type": "markdown",
   "metadata": {},
   "source": [
    "### Square root transformation "
   ]
  },
  {
   "cell_type": "code",
   "execution_count": 221,
   "metadata": {},
   "outputs": [
    {
     "data": {
      "image/png": "[encoded data removed]",
      "text/plain": [
       "<Figure size 720x432 with 2 Axes>"
      ]
     },
     "metadata": {
      "needs_background": "light"
     },
     "output_type": "display_data"
    }
   ],
   "source": [
    "#train_dist_transformed[\"cs_lv1_squared\"] = train_dist[\"closeststore__distance_lv1_desc\"]**(1/2)\n",
    "#plot_data(train_dist_transformed, \"cs_lv1_squared\")\n",
    "\n",
    "income_imp[\"singles_squared\"] = income_imp[\"singles\"]**(1/2)\n",
    "plot_data(income_imp, \"singles_squared\")"
   ]
  },
  {
   "cell_type": "markdown",
   "metadata": {},
   "source": [
    "### Exponential Transdormation"
   ]
  },
  {
   "cell_type": "code",
   "execution_count": 222,
   "metadata": {},
   "outputs": [
    {
     "data": {
      "image/png": "[encoded data removed]",
      "text/plain": [
       "<Figure size 720x432 with 2 Axes>"
      ]
     },
     "metadata": {
      "needs_background": "light"
     },
     "output_type": "display_data"
    }
   ],
   "source": [
    "#train_dist_transformed[\"cs_lv1_exp\"] = train_dist[\"closeststore__distance_lv1_desc\"]**(1/1.2)\n",
    "#plot_data(train_dist_transformed,\"cs_lv1_exp\")\n",
    "\n",
    "income_imp[\"singles_exp\"] = income_imp[\"singles\"]**(1/1.2)\n",
    "plot_data(income_imp, \"singles_exp\")"
   ]
  },
  {
   "cell_type": "markdown",
   "metadata": {},
   "source": [
    "### BoxCOx Transformation\n",
    "The Box-Cox transformation is defined as:\n",
    "\n",
    "T(Y)=(Y exp(λ)−1)/λ\n",
    "\n",
    "where Y is the response variable and λ is the transformation parameter. λ varies from -5 to 5. In the transformation, all values of λ are considered and the optimal value for a given variable is selected."
   ]
  },
  {
   "cell_type": "code",
   "execution_count": 223,
   "metadata": {},
   "outputs": [
    {
     "ename": "ValueError",
     "evalue": "Data must be positive.",
     "output_type": "error",
     "traceback": [
      "\u001b[1;31m---------------------------------------------------------------------------\u001b[0m",
      "\u001b[1;31mValueError\u001b[0m                                Traceback (most recent call last)",
      "\u001b[1;32m<ipython-input-223-8b868abc1b5d>\u001b[0m in \u001b[0;36m<module>\u001b[1;34m\u001b[0m\n\u001b[0;32m      2\u001b[0m \u001b[1;31m#plot_data(train_dist_transformed, \"cs_lv1_boxcox\")\u001b[0m\u001b[1;33m\u001b[0m\u001b[1;33m\u001b[0m\u001b[0m\n\u001b[0;32m      3\u001b[0m \u001b[1;33m\u001b[0m\u001b[0m\n\u001b[1;32m----> 4\u001b[1;33m \u001b[0mincome_imp\u001b[0m\u001b[1;33m[\u001b[0m\u001b[1;34m\"singles_boxcox\"\u001b[0m\u001b[1;33m]\u001b[0m\u001b[1;33m,\u001b[0m \u001b[0mparameters\u001b[0m \u001b[1;33m=\u001b[0m \u001b[0mstat\u001b[0m\u001b[1;33m.\u001b[0m\u001b[0mboxcox\u001b[0m\u001b[1;33m(\u001b[0m\u001b[0mincome_imp\u001b[0m\u001b[1;33m[\u001b[0m\u001b[1;34m\"singles\"\u001b[0m\u001b[1;33m]\u001b[0m\u001b[1;33m)\u001b[0m\u001b[1;33m\u001b[0m\u001b[1;33m\u001b[0m\u001b[0m\n\u001b[0m\u001b[0;32m      5\u001b[0m \u001b[0mplot_data\u001b[0m\u001b[1;33m(\u001b[0m\u001b[0mincome_imp\u001b[0m\u001b[1;33m,\u001b[0m \u001b[1;34m\"singles_boxcox\"\u001b[0m\u001b[1;33m)\u001b[0m\u001b[1;33m\u001b[0m\u001b[1;33m\u001b[0m\u001b[0m\n",
      "\u001b[1;32mc:\\Users\\aminp\\AppData\\Local\\Programs\\Python\\Python39\\lib\\site-packages\\scipy\\stats\\morestats.py\u001b[0m in \u001b[0;36mboxcox\u001b[1;34m(x, lmbda, alpha)\u001b[0m\n\u001b[0;32m   1041\u001b[0m \u001b[1;33m\u001b[0m\u001b[0m\n\u001b[0;32m   1042\u001b[0m     \u001b[1;32mif\u001b[0m \u001b[0many\u001b[0m\u001b[1;33m(\u001b[0m\u001b[0mx\u001b[0m \u001b[1;33m<=\u001b[0m \u001b[1;36m0\u001b[0m\u001b[1;33m)\u001b[0m\u001b[1;33m:\u001b[0m\u001b[1;33m\u001b[0m\u001b[1;33m\u001b[0m\u001b[0m\n\u001b[1;32m-> 1043\u001b[1;33m         \u001b[1;32mraise\u001b[0m \u001b[0mValueError\u001b[0m\u001b[1;33m(\u001b[0m\u001b[1;34m\"Data must be positive.\"\u001b[0m\u001b[1;33m)\u001b[0m\u001b[1;33m\u001b[0m\u001b[1;33m\u001b[0m\u001b[0m\n\u001b[0m\u001b[0;32m   1044\u001b[0m \u001b[1;33m\u001b[0m\u001b[0m\n\u001b[0;32m   1045\u001b[0m     \u001b[1;32mif\u001b[0m \u001b[0mlmbda\u001b[0m \u001b[1;32mis\u001b[0m \u001b[1;32mnot\u001b[0m \u001b[1;32mNone\u001b[0m\u001b[1;33m:\u001b[0m  \u001b[1;31m# single transformation\u001b[0m\u001b[1;33m\u001b[0m\u001b[1;33m\u001b[0m\u001b[0m\n",
      "\u001b[1;31mValueError\u001b[0m: Data must be positive."
     ]
    }
   ],
   "source": [
    "#train_dist_transformed[\"cs_lv1_boxcox\"], parameters = stat.boxcox(train_dist[\"closeststore__distance_lv1_desc\"])\n",
    "#plot_data(train_dist_transformed, \"cs_lv1_boxcox\")\n",
    "\n",
    "income_imp[\"singles_boxcox\"], parameters = stat.boxcox(income_imp[\"singles\"])\n",
    "plot_data(income_imp, \"singles_boxcox\")\n",
    "\n"
   ]
  },
  {
   "cell_type": "code",
   "execution_count": 224,
   "metadata": {},
   "outputs": [
    {
     "data": {
      "image/png": "[encoded data removed]",
      "text/plain": [
       "<Figure size 720x432 with 2 Axes>"
      ]
     },
     "metadata": {
      "needs_background": "light"
     },
     "output_type": "display_data"
    }
   ],
   "source": [
    "#train_dist_transformed[\"cs_lv1_yeojohnson\"], parameters = stat.yeojohnson(train_dist[\"closeststore__distance_lv1_desc\"])\n",
    "#plot_data(train_dist_transformed, \"cs_lv1_yeojohnson\")\n",
    "\n",
    "income_imp[\"singles_yeo\"], parameters = stat.yeojohnson(income_imp[\"singles\"])\n",
    "plot_data(income_imp, \"singles_yeo\")  "
   ]
  },
  {
   "cell_type": "code",
   "execution_count": null,
   "metadata": {},
   "outputs": [],
   "source": [
    "#plots(train_dist, \"closeststore__distance_lv1_desc\", PowerTransformer())\n",
    "plots(income_imp, \"singles\", PowerTransformer())\n",
    "plots(income_imp, \"all_households\", PowerTransformer())"
   ]
  },
  {
   "cell_type": "code",
   "execution_count": null,
   "metadata": {},
   "outputs": [],
   "source": [
    "fig, (ax1, ax2) = plt.subplots(figsize=(12, 3), ncols=2)\n",
    "income_imp.all_households.plot.hist(bins=100, ax=ax1)\n",
    "ax1.set_title('Distribution of Revenues');\n",
    "income_imp.all_house_yeo.plot.hist(bins=100, ax = ax2)\n",
    "ax2.set_title(\"Transformed\")"
   ]
  }
 ],
 "metadata": {
  "kernelspec": {
   "display_name": "Python 3.8.3 ('base')",
   "language": "python",
   "name": "python3"
  },
  "language_info": {
   "codemirror_mode": {
    "name": "ipython",
    "version": 3
   },
   "file_extension": ".py",
   "mimetype": "text/x-python",
   "name": "python",
   "nbconvert_exporter": "python",
   "pygments_lexer": "ipython3",
   "version": "3.8.3"
  },
  "orig_nbformat": 4,
  "vscode": {
   "interpreter": {
    "hash": "59a275e10fb65f8ffdbf47c66e80409aee5f702bfde36eb90a9619fd519b731e"
   }
  }
 },
 "nbformat": 4,
 "nbformat_minor": 2
}
